{
 "cells": [
  {
   "cell_type": "markdown",
   "metadata": {
    "id": "W9WYtR3ZFzLq"
   },
   "source": [
    "# Самостоятельная работа #5\n",
    "\n",
    "10 баллов.\n",
    "\n",
    "Будем работать с набором данных об аренде велосипедов `bikes`.\n",
    "\n",
    "Сагрегируем наш набор данных, чтобы получился датафрейм `bikes_weeks`, где четыре признака сгруппированы по неделям года. Для каждой недели мы найдем среднее количество арендованных велосипедов (`Rental Count`), среднюю температуру  в градусах Цельсия (`Temperature`), влажность в процентном выражении (`Humidity`) и ветер в метрах в секунду (`Wind speed`). Используем мульти-индекс — сезон, к которому принадлежит наша неделя и ее номер."
   ]
  },
  {
   "cell_type": "code",
   "execution_count": 1,
   "metadata": {
    "colab": {
     "base_uri": "https://localhost:8080/",
     "height": 238
    },
    "id": "AshPtM_etaoF",
    "outputId": "34ab095f-626f-4722-b96a-a24022fb8f52"
   },
   "outputs": [
    {
     "data": {
      "text/html": [
       "<div>\n",
       "<style scoped>\n",
       "    .dataframe tbody tr th:only-of-type {\n",
       "        vertical-align: middle;\n",
       "    }\n",
       "\n",
       "    .dataframe tbody tr th {\n",
       "        vertical-align: top;\n",
       "    }\n",
       "\n",
       "    .dataframe thead th {\n",
       "        text-align: right;\n",
       "    }\n",
       "</style>\n",
       "<table border=\"1\" class=\"dataframe\">\n",
       "  <thead>\n",
       "    <tr style=\"text-align: right;\">\n",
       "      <th></th>\n",
       "      <th></th>\n",
       "      <th>Rental Count</th>\n",
       "      <th>Temperature</th>\n",
       "      <th>Humidity</th>\n",
       "      <th>Wind speed</th>\n",
       "    </tr>\n",
       "    <tr>\n",
       "      <th>Seasons</th>\n",
       "      <th>week</th>\n",
       "      <th></th>\n",
       "      <th></th>\n",
       "      <th></th>\n",
       "      <th></th>\n",
       "    </tr>\n",
       "  </thead>\n",
       "  <tbody>\n",
       "    <tr>\n",
       "      <th rowspan=\"5\" valign=\"top\">Autumn</th>\n",
       "      <th>35</th>\n",
       "      <td>59438</td>\n",
       "      <td>25.170213</td>\n",
       "      <td>57.875000</td>\n",
       "      <td>1.356250</td>\n",
       "    </tr>\n",
       "    <tr>\n",
       "      <th>36</th>\n",
       "      <td>191800</td>\n",
       "      <td>22.950909</td>\n",
       "      <td>63.065476</td>\n",
       "      <td>1.858333</td>\n",
       "    </tr>\n",
       "    <tr>\n",
       "      <th>37</th>\n",
       "      <td>186208</td>\n",
       "      <td>22.768072</td>\n",
       "      <td>62.607143</td>\n",
       "      <td>1.375000</td>\n",
       "    </tr>\n",
       "    <tr>\n",
       "      <th>38</th>\n",
       "      <td>103925</td>\n",
       "      <td>20.754268</td>\n",
       "      <td>66.869048</td>\n",
       "      <td>1.528571</td>\n",
       "    </tr>\n",
       "    <tr>\n",
       "      <th>39</th>\n",
       "      <td>124820</td>\n",
       "      <td>18.385366</td>\n",
       "      <td>51.065476</td>\n",
       "      <td>1.510714</td>\n",
       "    </tr>\n",
       "  </tbody>\n",
       "</table>\n",
       "</div>"
      ],
      "text/plain": [
       "              Rental Count  Temperature   Humidity  Wind speed\n",
       "Seasons week                                                  \n",
       "Autumn  35           59438    25.170213  57.875000    1.356250\n",
       "        36          191800    22.950909  63.065476    1.858333\n",
       "        37          186208    22.768072  62.607143    1.375000\n",
       "        38          103925    20.754268  66.869048    1.528571\n",
       "        39          124820    18.385366  51.065476    1.510714"
      ]
     },
     "execution_count": 1,
     "metadata": {},
     "output_type": "execute_result"
    }
   ],
   "source": [
    "# запустите эту ячейку\n",
    "import pandas as pd\n",
    "bikes = pd.read_pickle('https://github.com/rogovich/Data/blob/master/data/BikesDataVars.pkl?raw=true')\n",
    "\n",
    "bikes_sum = bikes.groupby(['Seasons', bikes['Date'].dt.isocalendar().week])['Rental Count'].sum()\n",
    "temp_mean = bikes.groupby(['Seasons', bikes['Date'].dt.isocalendar().week])['Temperature'].mean()\n",
    "humidity_mean = bikes.groupby(['Seasons', bikes['Date'].dt.isocalendar().week])['Humidity'].mean()\n",
    "wind_mean = bikes.groupby(['Seasons', bikes['Date'].dt.isocalendar().week])['Wind speed'].mean()\n",
    "\n",
    "bikes_weeks = pd.concat([bikes_sum, temp_mean, humidity_mean, wind_mean], axis=1)\n",
    "\n",
    "bikes_weeks.head()"
   ]
  },
  {
   "cell_type": "markdown",
   "metadata": {
    "id": "lZ4E809kv1Xt"
   },
   "source": [
    "## Задание 1 (1 балл)\n",
    "\n",
    "Для `bikes_weeks` найдите коэффициенты корреляции между `Rental Count` и остальными переменными. Сначала примените метод `.corr()` ко всему датафрейму, а затем выберите из получившегося объекта одну колонку (`Rental Count`). Сохраните результат в переменную `rental_corr` и отобразите ее."
   ]
  },
  {
   "cell_type": "code",
   "execution_count": null,
   "metadata": {
    "id": "Cu0liWWuvVhn"
   },
   "outputs": [],
   "source": [
    "# ваш код здесь"
   ]
  },
  {
   "cell_type": "markdown",
   "metadata": {
    "id": "3Ai9c4s3wapl"
   },
   "source": [
    "## Задание 2 (1 балл)\n",
    "\n",
    "Отсортируйте `rental_corr` от сильнейшей корелляции к слабейшей. Перед сортировкой примените к объекту метод `.abs()`, чтобы получить абсолютные значения."
   ]
  },
  {
   "cell_type": "code",
   "execution_count": 30,
   "metadata": {
    "id": "lnUKoR0GwRKc"
   },
   "outputs": [],
   "source": [
    "# ваш код здесь"
   ]
  },
  {
   "cell_type": "markdown",
   "metadata": {
    "id": "6t6wlLOFxuy8"
   },
   "source": [
    "## Задание 3 (4 балла)\n",
    "\n",
    "Постройте корреляционную матрицу для `bikes_weeks` — примените метод `.corr()`, а затем визуализируйте с помощью функции `heatmap()` из библиотеки `seaborn` (уже импортирована).\n",
    "\n",
    "Каждый пункт стоит 1 балл\n",
    "\n",
    "* передайте корреляционную матрицу первым параметром \n",
    "* определите параметры `vmin=-1` и `vmax=1`, чтобы получить шкалу от -1 до 1\n",
    "* определите параметр `annot=True`, чтобы вывести коэффициенты\n",
    "* определите параметр `cmap='cubehelix'`, чтобы изменить цветовую шкалу.\n",
    "\n",
    "Референс: \n",
    "\n",
    "![](https://github.com/rogovich/Data/blob/master/img/kh_practice/pol_reference_heatmap.png?raw=true)"
   ]
  },
  {
   "cell_type": "markdown",
   "metadata": {},
   "source": [
    "Референс-код:\n",
    "```python\n",
    "fig , ax = plt.subplots(figsize = (14,12))\n",
    "sns.heatmap(data, vmax=0.8, vmin = -0.8, annot=True,cmap='viridis')\n",
    "```"
   ]
  },
  {
   "cell_type": "code",
   "execution_count": 4,
   "metadata": {
    "id": "OULRL3zSxtyo"
   },
   "outputs": [
    {
     "data": {
      "text/plain": [
       "<Figure size 864x504 with 0 Axes>"
      ]
     },
     "execution_count": 4,
     "metadata": {},
     "output_type": "execute_result"
    },
    {
     "data": {
      "text/plain": [
       "<Figure size 864x504 with 0 Axes>"
      ]
     },
     "metadata": {},
     "output_type": "display_data"
    }
   ],
   "source": [
    "import seaborn as sns \n",
    "import matplotlib.pyplot as plt \n",
    "\n",
    "plt.figure(figsize=(12,7)) \n",
    "# ваш код ниже"
   ]
  },
  {
   "cell_type": "markdown",
   "metadata": {},
   "source": [
    "# Задание 4 (4 балла)\n",
    "\n",
    "Каждый пункт 1 балл.\n",
    "\n",
    "Постройте график с помощью функции `.relplot()` из библиотеки `seaborn` для датафрейма `bikes_weeks` \n",
    "* На шкале x должны быть недели, на шкале y — количество арендованных велосипедов. \n",
    "* За цвет и размер отвечает температура. \n",
    "* График должен быть разбит на четыре графика по сезонам (по колонкам). Две колонки в ряд.\n",
    "* Сезоны должны идти в следующем порядке — зима, весна, лето и осень.\n",
    "\n",
    "Референс: \n",
    "![](https://github.com/rogovich/Data/blob/master/relplot_reference.png?raw=true)\n",
    "\n",
    "Референс-код:\n",
    "```python\n",
    "sns.relplot(x=\"total_bill\",\n",
    "            y=\"tip\",\n",
    "            data=tips,\n",
    "            kind=\"scatter\",\n",
    "            col=\"day\",\n",
    "            col_wrap=2,\n",
    "            col_order=[\"Thur\", \"Fri\",\"Sat\", \"Sun\"],\n",
    "            hue='smoker',\n",
    "            size='temp')\n",
    "```"
   ]
  },
  {
   "cell_type": "code",
   "execution_count": 2,
   "metadata": {},
   "outputs": [],
   "source": [
    "import seaborn as sns \n",
    "# ваш код ниже"
   ]
  }
 ],
 "metadata": {
  "colab": {
   "name": "KH_Practice 7.ipynb",
   "provenance": []
  },
  "kernelspec": {
   "display_name": "Python 3",
   "language": "python",
   "name": "python3"
  },
  "language_info": {
   "codemirror_mode": {
    "name": "ipython",
    "version": 3
   },
   "file_extension": ".py",
   "mimetype": "text/x-python",
   "name": "python",
   "nbconvert_exporter": "python",
   "pygments_lexer": "ipython3",
   "version": "3.8.5"
  }
 },
 "nbformat": 4,
 "nbformat_minor": 4
}
