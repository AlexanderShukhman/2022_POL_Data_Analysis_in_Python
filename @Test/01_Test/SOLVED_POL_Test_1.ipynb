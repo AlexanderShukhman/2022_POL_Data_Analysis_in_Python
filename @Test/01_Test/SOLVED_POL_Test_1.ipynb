{
 "cells": [
  {
   "cell_type": "markdown",
   "metadata": {
    "id": "hlO9YSc-9Rkt"
   },
   "source": [
    "# Контрольная работа 1\n",
    "\n",
    "Максимум 13 баллов. В ведомость идет максимум 11 баллов."
   ]
  },
  {
   "cell_type": "markdown",
   "metadata": {
    "id": "yg8CrTwHMT_g"
   },
   "source": [
    "## Загрузка данных\n",
    "\n",
    "Мы будем работать с набором данных, в котором содержится информация о хостелах в японии. Запустите ячейку ниже, чтобы импортировать билиотеки и загрузить данные в переменную `hostels`.\n",
    "\n",
    "Один ряд — один хостел."
   ]
  },
  {
   "cell_type": "code",
   "execution_count": 1,
   "metadata": {
    "colab": {
     "base_uri": "https://localhost:8080/",
     "height": 400
    },
    "id": "6aJjSZwjlYM0",
    "outputId": "385e7003-12ed-4bd7-a1bf-852ec1fa6944"
   },
   "outputs": [
    {
     "data": {
      "text/html": [
       "<div>\n",
       "<style scoped>\n",
       "    .dataframe tbody tr th:only-of-type {\n",
       "        vertical-align: middle;\n",
       "    }\n",
       "\n",
       "    .dataframe tbody tr th {\n",
       "        vertical-align: top;\n",
       "    }\n",
       "\n",
       "    .dataframe thead th {\n",
       "        text-align: right;\n",
       "    }\n",
       "</style>\n",
       "<table border=\"1\" class=\"dataframe\">\n",
       "  <thead>\n",
       "    <tr style=\"text-align: right;\">\n",
       "      <th></th>\n",
       "      <th>hostel.name</th>\n",
       "      <th>City</th>\n",
       "      <th>price.from</th>\n",
       "      <th>Distance</th>\n",
       "      <th>summary.score</th>\n",
       "      <th>rating.band</th>\n",
       "      <th>atmosphere</th>\n",
       "      <th>cleanliness</th>\n",
       "      <th>facilities</th>\n",
       "      <th>location.y</th>\n",
       "      <th>security</th>\n",
       "      <th>staff</th>\n",
       "      <th>valueformoney</th>\n",
       "      <th>lon</th>\n",
       "      <th>lat</th>\n",
       "    </tr>\n",
       "  </thead>\n",
       "  <tbody>\n",
       "    <tr>\n",
       "      <th>1</th>\n",
       "      <td>\"Bike &amp; Bed\" CharinCo Hostel</td>\n",
       "      <td>Osaka</td>\n",
       "      <td>3300</td>\n",
       "      <td>2.9km from city centre</td>\n",
       "      <td>9.2</td>\n",
       "      <td>Superb</td>\n",
       "      <td>8.9</td>\n",
       "      <td>9.4</td>\n",
       "      <td>9.3</td>\n",
       "      <td>8.9</td>\n",
       "      <td>9.0</td>\n",
       "      <td>9.4</td>\n",
       "      <td>9.4</td>\n",
       "      <td>135.513767</td>\n",
       "      <td>34.682678</td>\n",
       "    </tr>\n",
       "    <tr>\n",
       "      <th>2</th>\n",
       "      <td>&amp; And Hostel</td>\n",
       "      <td>Fukuoka-City</td>\n",
       "      <td>2600</td>\n",
       "      <td>0.7km from city centre</td>\n",
       "      <td>9.5</td>\n",
       "      <td>Superb</td>\n",
       "      <td>9.4</td>\n",
       "      <td>9.7</td>\n",
       "      <td>9.5</td>\n",
       "      <td>9.7</td>\n",
       "      <td>9.2</td>\n",
       "      <td>9.7</td>\n",
       "      <td>9.5</td>\n",
       "      <td>NaN</td>\n",
       "      <td>NaN</td>\n",
       "    </tr>\n",
       "    <tr>\n",
       "      <th>3</th>\n",
       "      <td>&amp;And Hostel Akihabara</td>\n",
       "      <td>Tokyo</td>\n",
       "      <td>3600</td>\n",
       "      <td>7.8km from city centre</td>\n",
       "      <td>8.7</td>\n",
       "      <td>Fabulous</td>\n",
       "      <td>8.0</td>\n",
       "      <td>7.0</td>\n",
       "      <td>9.0</td>\n",
       "      <td>8.0</td>\n",
       "      <td>10.0</td>\n",
       "      <td>10.0</td>\n",
       "      <td>9.0</td>\n",
       "      <td>139.777472</td>\n",
       "      <td>35.697447</td>\n",
       "    </tr>\n",
       "    <tr>\n",
       "      <th>4</th>\n",
       "      <td>&amp;And Hostel Ueno</td>\n",
       "      <td>Tokyo</td>\n",
       "      <td>2600</td>\n",
       "      <td>8.7km from city centre</td>\n",
       "      <td>7.4</td>\n",
       "      <td>Very Good</td>\n",
       "      <td>8.0</td>\n",
       "      <td>7.5</td>\n",
       "      <td>7.5</td>\n",
       "      <td>7.5</td>\n",
       "      <td>7.0</td>\n",
       "      <td>8.0</td>\n",
       "      <td>6.5</td>\n",
       "      <td>139.783667</td>\n",
       "      <td>35.712716</td>\n",
       "    </tr>\n",
       "    <tr>\n",
       "      <th>5</th>\n",
       "      <td>&amp;And Hostel-Asakusa North-</td>\n",
       "      <td>Tokyo</td>\n",
       "      <td>1500</td>\n",
       "      <td>10.5km from city centre</td>\n",
       "      <td>9.4</td>\n",
       "      <td>Superb</td>\n",
       "      <td>9.5</td>\n",
       "      <td>9.5</td>\n",
       "      <td>9.0</td>\n",
       "      <td>9.0</td>\n",
       "      <td>9.5</td>\n",
       "      <td>10.0</td>\n",
       "      <td>9.5</td>\n",
       "      <td>139.798371</td>\n",
       "      <td>35.727898</td>\n",
       "    </tr>\n",
       "  </tbody>\n",
       "</table>\n",
       "</div>"
      ],
      "text/plain": [
       "                    hostel.name          City  price.from  \\\n",
       "1  \"Bike & Bed\" CharinCo Hostel         Osaka        3300   \n",
       "2                  & And Hostel  Fukuoka-City        2600   \n",
       "3         &And Hostel Akihabara         Tokyo        3600   \n",
       "4              &And Hostel Ueno         Tokyo        2600   \n",
       "5    &And Hostel-Asakusa North-         Tokyo        1500   \n",
       "\n",
       "                  Distance  summary.score rating.band  atmosphere  \\\n",
       "1   2.9km from city centre            9.2      Superb         8.9   \n",
       "2   0.7km from city centre            9.5      Superb         9.4   \n",
       "3   7.8km from city centre            8.7    Fabulous         8.0   \n",
       "4   8.7km from city centre            7.4   Very Good         8.0   \n",
       "5  10.5km from city centre            9.4      Superb         9.5   \n",
       "\n",
       "   cleanliness  facilities  location.y  security  staff  valueformoney  \\\n",
       "1          9.4         9.3         8.9       9.0    9.4            9.4   \n",
       "2          9.7         9.5         9.7       9.2    9.7            9.5   \n",
       "3          7.0         9.0         8.0      10.0   10.0            9.0   \n",
       "4          7.5         7.5         7.5       7.0    8.0            6.5   \n",
       "5          9.5         9.0         9.0       9.5   10.0            9.5   \n",
       "\n",
       "          lon        lat  \n",
       "1  135.513767  34.682678  \n",
       "2         NaN        NaN  \n",
       "3  139.777472  35.697447  \n",
       "4  139.783667  35.712716  \n",
       "5  139.798371  35.727898  "
      ]
     },
     "execution_count": 1,
     "metadata": {},
     "output_type": "execute_result"
    }
   ],
   "source": [
    "import pandas as pd \n",
    "import matplotlib.pyplot as plt \n",
    "\n",
    "hostels = pd.read_csv('https://raw.githubusercontent.com/rogovich/Data/master/data/Hostel.csv', index_col=0)\n",
    "hostels.head()"
   ]
  },
  {
   "cell_type": "markdown",
   "metadata": {
    "id": "B5jQVqtklRLa"
   },
   "source": [
    "## Задание 1 (0.5 балла)\n",
    "\n",
    "Выведите все основные дескриптивные статистики датасета с помощью метода `.describe()` и ответьте на вопрос ниже."
   ]
  },
  {
   "cell_type": "code",
   "execution_count": 2,
   "metadata": {
    "id": "R5IdAtb5l1sG"
   },
   "outputs": [
    {
     "data": {
      "text/html": [
       "<div>\n",
       "<style scoped>\n",
       "    .dataframe tbody tr th:only-of-type {\n",
       "        vertical-align: middle;\n",
       "    }\n",
       "\n",
       "    .dataframe tbody tr th {\n",
       "        vertical-align: top;\n",
       "    }\n",
       "\n",
       "    .dataframe thead th {\n",
       "        text-align: right;\n",
       "    }\n",
       "</style>\n",
       "<table border=\"1\" class=\"dataframe\">\n",
       "  <thead>\n",
       "    <tr style=\"text-align: right;\">\n",
       "      <th></th>\n",
       "      <th>price.from</th>\n",
       "      <th>summary.score</th>\n",
       "      <th>atmosphere</th>\n",
       "      <th>cleanliness</th>\n",
       "      <th>facilities</th>\n",
       "      <th>location.y</th>\n",
       "      <th>security</th>\n",
       "      <th>staff</th>\n",
       "      <th>valueformoney</th>\n",
       "      <th>lon</th>\n",
       "      <th>lat</th>\n",
       "    </tr>\n",
       "  </thead>\n",
       "  <tbody>\n",
       "    <tr>\n",
       "      <th>count</th>\n",
       "      <td>3.420000e+02</td>\n",
       "      <td>327.000000</td>\n",
       "      <td>327.000000</td>\n",
       "      <td>327.000000</td>\n",
       "      <td>327.000000</td>\n",
       "      <td>327.000000</td>\n",
       "      <td>327.000000</td>\n",
       "      <td>327.000000</td>\n",
       "      <td>327.000000</td>\n",
       "      <td>298.000000</td>\n",
       "      <td>298.000000</td>\n",
       "    </tr>\n",
       "    <tr>\n",
       "      <th>mean</th>\n",
       "      <td>8.388012e+03</td>\n",
       "      <td>8.782569</td>\n",
       "      <td>8.238838</td>\n",
       "      <td>9.011927</td>\n",
       "      <td>8.597554</td>\n",
       "      <td>8.694801</td>\n",
       "      <td>8.947401</td>\n",
       "      <td>9.133333</td>\n",
       "      <td>8.848318</td>\n",
       "      <td>136.756376</td>\n",
       "      <td>34.976583</td>\n",
       "    </tr>\n",
       "    <tr>\n",
       "      <th>std</th>\n",
       "      <td>7.641527e+04</td>\n",
       "      <td>0.960909</td>\n",
       "      <td>1.382002</td>\n",
       "      <td>1.215775</td>\n",
       "      <td>1.285356</td>\n",
       "      <td>1.102703</td>\n",
       "      <td>1.114345</td>\n",
       "      <td>1.086513</td>\n",
       "      <td>1.047809</td>\n",
       "      <td>3.251995</td>\n",
       "      <td>2.040896</td>\n",
       "    </tr>\n",
       "    <tr>\n",
       "      <th>min</th>\n",
       "      <td>1.000000e+03</td>\n",
       "      <td>3.100000</td>\n",
       "      <td>2.000000</td>\n",
       "      <td>2.000000</td>\n",
       "      <td>2.000000</td>\n",
       "      <td>2.000000</td>\n",
       "      <td>2.000000</td>\n",
       "      <td>2.000000</td>\n",
       "      <td>4.000000</td>\n",
       "      <td>103.873135</td>\n",
       "      <td>1.310820</td>\n",
       "    </tr>\n",
       "    <tr>\n",
       "      <th>25%</th>\n",
       "      <td>2.000000e+03</td>\n",
       "      <td>8.600000</td>\n",
       "      <td>7.800000</td>\n",
       "      <td>8.800000</td>\n",
       "      <td>8.000000</td>\n",
       "      <td>8.000000</td>\n",
       "      <td>8.700000</td>\n",
       "      <td>9.000000</td>\n",
       "      <td>8.600000</td>\n",
       "      <td>135.505314</td>\n",
       "      <td>34.668900</td>\n",
       "    </tr>\n",
       "    <tr>\n",
       "      <th>50%</th>\n",
       "      <td>2.500000e+03</td>\n",
       "      <td>9.000000</td>\n",
       "      <td>8.600000</td>\n",
       "      <td>9.300000</td>\n",
       "      <td>9.000000</td>\n",
       "      <td>9.000000</td>\n",
       "      <td>9.200000</td>\n",
       "      <td>9.400000</td>\n",
       "      <td>9.000000</td>\n",
       "      <td>135.761617</td>\n",
       "      <td>34.998471</td>\n",
       "    </tr>\n",
       "    <tr>\n",
       "      <th>75%</th>\n",
       "      <td>2.900000e+03</td>\n",
       "      <td>9.400000</td>\n",
       "      <td>9.000000</td>\n",
       "      <td>9.800000</td>\n",
       "      <td>9.300000</td>\n",
       "      <td>9.400000</td>\n",
       "      <td>9.600000</td>\n",
       "      <td>9.800000</td>\n",
       "      <td>9.500000</td>\n",
       "      <td>139.770187</td>\n",
       "      <td>35.696709</td>\n",
       "    </tr>\n",
       "    <tr>\n",
       "      <th>max</th>\n",
       "      <td>1.003200e+06</td>\n",
       "      <td>10.000000</td>\n",
       "      <td>10.000000</td>\n",
       "      <td>10.000000</td>\n",
       "      <td>10.000000</td>\n",
       "      <td>10.000000</td>\n",
       "      <td>10.000000</td>\n",
       "      <td>10.000000</td>\n",
       "      <td>10.000000</td>\n",
       "      <td>139.877880</td>\n",
       "      <td>36.204824</td>\n",
       "    </tr>\n",
       "  </tbody>\n",
       "</table>\n",
       "</div>"
      ],
      "text/plain": [
       "         price.from  summary.score  atmosphere  cleanliness  facilities  \\\n",
       "count  3.420000e+02     327.000000  327.000000   327.000000  327.000000   \n",
       "mean   8.388012e+03       8.782569    8.238838     9.011927    8.597554   \n",
       "std    7.641527e+04       0.960909    1.382002     1.215775    1.285356   \n",
       "min    1.000000e+03       3.100000    2.000000     2.000000    2.000000   \n",
       "25%    2.000000e+03       8.600000    7.800000     8.800000    8.000000   \n",
       "50%    2.500000e+03       9.000000    8.600000     9.300000    9.000000   \n",
       "75%    2.900000e+03       9.400000    9.000000     9.800000    9.300000   \n",
       "max    1.003200e+06      10.000000   10.000000    10.000000   10.000000   \n",
       "\n",
       "       location.y    security       staff  valueformoney         lon  \\\n",
       "count  327.000000  327.000000  327.000000     327.000000  298.000000   \n",
       "mean     8.694801    8.947401    9.133333       8.848318  136.756376   \n",
       "std      1.102703    1.114345    1.086513       1.047809    3.251995   \n",
       "min      2.000000    2.000000    2.000000       4.000000  103.873135   \n",
       "25%      8.000000    8.700000    9.000000       8.600000  135.505314   \n",
       "50%      9.000000    9.200000    9.400000       9.000000  135.761617   \n",
       "75%      9.400000    9.600000    9.800000       9.500000  139.770187   \n",
       "max     10.000000   10.000000   10.000000      10.000000  139.877880   \n",
       "\n",
       "              lat  \n",
       "count  298.000000  \n",
       "mean    34.976583  \n",
       "std      2.040896  \n",
       "min      1.310820  \n",
       "25%     34.668900  \n",
       "50%     34.998471  \n",
       "75%     35.696709  \n",
       "max     36.204824  "
      ]
     },
     "execution_count": 2,
     "metadata": {},
     "output_type": "execute_result"
    }
   ],
   "source": [
    "# ваш код здесь\n",
    "hostels.describe()"
   ]
  },
  {
   "cell_type": "markdown",
   "metadata": {
    "id": "P603thU0ma_z"
   },
   "source": [
    "(кликните два раза, чтобы редактировать ячеку)\n",
    "\n",
    "**Каков 25-й перцентиль переменной `cleanliness`?**\n",
    "\n",
    "8.800000"
   ]
  },
  {
   "cell_type": "markdown",
   "metadata": {
    "id": "UGPMLLYIlUsF"
   },
   "source": [
    "## Задание 2 (0.5 балла)"
   ]
  },
  {
   "cell_type": "markdown",
   "metadata": {
    "id": "Et4ZPA-F-mRZ"
   },
   "source": [
    "Отфильтруйте и отобразите только три колонки из набора данных — `location.y`, `City` and `lon`. Колонки должны отображаться именно в этом порядке."
   ]
  },
  {
   "cell_type": "code",
   "execution_count": 3,
   "metadata": {
    "id": "4Z0arum9mnxq"
   },
   "outputs": [
    {
     "data": {
      "text/html": [
       "<div>\n",
       "<style scoped>\n",
       "    .dataframe tbody tr th:only-of-type {\n",
       "        vertical-align: middle;\n",
       "    }\n",
       "\n",
       "    .dataframe tbody tr th {\n",
       "        vertical-align: top;\n",
       "    }\n",
       "\n",
       "    .dataframe thead th {\n",
       "        text-align: right;\n",
       "    }\n",
       "</style>\n",
       "<table border=\"1\" class=\"dataframe\">\n",
       "  <thead>\n",
       "    <tr style=\"text-align: right;\">\n",
       "      <th></th>\n",
       "      <th>location.y</th>\n",
       "      <th>City</th>\n",
       "      <th>lon</th>\n",
       "    </tr>\n",
       "  </thead>\n",
       "  <tbody>\n",
       "    <tr>\n",
       "      <th>1</th>\n",
       "      <td>8.9</td>\n",
       "      <td>Osaka</td>\n",
       "      <td>135.513767</td>\n",
       "    </tr>\n",
       "    <tr>\n",
       "      <th>2</th>\n",
       "      <td>9.7</td>\n",
       "      <td>Fukuoka-City</td>\n",
       "      <td>NaN</td>\n",
       "    </tr>\n",
       "    <tr>\n",
       "      <th>3</th>\n",
       "      <td>8.0</td>\n",
       "      <td>Tokyo</td>\n",
       "      <td>139.777472</td>\n",
       "    </tr>\n",
       "    <tr>\n",
       "      <th>4</th>\n",
       "      <td>7.5</td>\n",
       "      <td>Tokyo</td>\n",
       "      <td>139.783667</td>\n",
       "    </tr>\n",
       "    <tr>\n",
       "      <th>5</th>\n",
       "      <td>9.0</td>\n",
       "      <td>Tokyo</td>\n",
       "      <td>139.798371</td>\n",
       "    </tr>\n",
       "    <tr>\n",
       "      <th>...</th>\n",
       "      <td>...</td>\n",
       "      <td>...</td>\n",
       "      <td>...</td>\n",
       "    </tr>\n",
       "    <tr>\n",
       "      <th>338</th>\n",
       "      <td>8.9</td>\n",
       "      <td>Tokyo</td>\n",
       "      <td>139.668125</td>\n",
       "    </tr>\n",
       "    <tr>\n",
       "      <th>339</th>\n",
       "      <td>9.4</td>\n",
       "      <td>Tokyo</td>\n",
       "      <td>139.667695</td>\n",
       "    </tr>\n",
       "    <tr>\n",
       "      <th>340</th>\n",
       "      <td>8.5</td>\n",
       "      <td>Tokyo</td>\n",
       "      <td>139.869197</td>\n",
       "    </tr>\n",
       "    <tr>\n",
       "      <th>341</th>\n",
       "      <td>8.0</td>\n",
       "      <td>Kyoto</td>\n",
       "      <td>135.749063</td>\n",
       "    </tr>\n",
       "    <tr>\n",
       "      <th>342</th>\n",
       "      <td>9.0</td>\n",
       "      <td>Tokyo</td>\n",
       "      <td>139.742116</td>\n",
       "    </tr>\n",
       "  </tbody>\n",
       "</table>\n",
       "<p>342 rows × 3 columns</p>\n",
       "</div>"
      ],
      "text/plain": [
       "     location.y          City         lon\n",
       "1           8.9         Osaka  135.513767\n",
       "2           9.7  Fukuoka-City         NaN\n",
       "3           8.0         Tokyo  139.777472\n",
       "4           7.5         Tokyo  139.783667\n",
       "5           9.0         Tokyo  139.798371\n",
       "..          ...           ...         ...\n",
       "338         8.9         Tokyo  139.668125\n",
       "339         9.4         Tokyo  139.667695\n",
       "340         8.5         Tokyo  139.869197\n",
       "341         8.0         Kyoto  135.749063\n",
       "342         9.0         Tokyo  139.742116\n",
       "\n",
       "[342 rows x 3 columns]"
      ]
     },
     "execution_count": 3,
     "metadata": {},
     "output_type": "execute_result"
    }
   ],
   "source": [
    "hostels[['location.y', 'City', 'lon']]"
   ]
  },
  {
   "cell_type": "markdown",
   "metadata": {
    "id": "ie8XC3_WnDwP"
   },
   "source": [
    "## Задание 3 (0.5 балла)\n",
    "\n",
    "Создайте новую переменную. Конвертируйте `price.from` из японских йен в китайские юани, если 1 юань = 17.73 японсих йен. Округлите результат до сотых и сохраните в колонку `price.from.yuans`.\n"
   ]
  },
  {
   "cell_type": "code",
   "execution_count": 4,
   "metadata": {
    "id": "ZeljeYiWp06J"
   },
   "outputs": [
    {
     "data": {
      "text/html": [
       "<div>\n",
       "<style scoped>\n",
       "    .dataframe tbody tr th:only-of-type {\n",
       "        vertical-align: middle;\n",
       "    }\n",
       "\n",
       "    .dataframe tbody tr th {\n",
       "        vertical-align: top;\n",
       "    }\n",
       "\n",
       "    .dataframe thead th {\n",
       "        text-align: right;\n",
       "    }\n",
       "</style>\n",
       "<table border=\"1\" class=\"dataframe\">\n",
       "  <thead>\n",
       "    <tr style=\"text-align: right;\">\n",
       "      <th></th>\n",
       "      <th>hostel.name</th>\n",
       "      <th>City</th>\n",
       "      <th>price.from</th>\n",
       "      <th>Distance</th>\n",
       "      <th>summary.score</th>\n",
       "      <th>rating.band</th>\n",
       "      <th>atmosphere</th>\n",
       "      <th>cleanliness</th>\n",
       "      <th>facilities</th>\n",
       "      <th>location.y</th>\n",
       "      <th>security</th>\n",
       "      <th>staff</th>\n",
       "      <th>valueformoney</th>\n",
       "      <th>lon</th>\n",
       "      <th>lat</th>\n",
       "      <th>price.from.yuans</th>\n",
       "    </tr>\n",
       "  </thead>\n",
       "  <tbody>\n",
       "    <tr>\n",
       "      <th>1</th>\n",
       "      <td>\"Bike &amp; Bed\" CharinCo Hostel</td>\n",
       "      <td>Osaka</td>\n",
       "      <td>3300</td>\n",
       "      <td>2.9km from city centre</td>\n",
       "      <td>9.2</td>\n",
       "      <td>Superb</td>\n",
       "      <td>8.9</td>\n",
       "      <td>9.4</td>\n",
       "      <td>9.3</td>\n",
       "      <td>8.9</td>\n",
       "      <td>9.0</td>\n",
       "      <td>9.4</td>\n",
       "      <td>9.4</td>\n",
       "      <td>135.513767</td>\n",
       "      <td>34.682678</td>\n",
       "      <td>186.13</td>\n",
       "    </tr>\n",
       "    <tr>\n",
       "      <th>2</th>\n",
       "      <td>&amp; And Hostel</td>\n",
       "      <td>Fukuoka-City</td>\n",
       "      <td>2600</td>\n",
       "      <td>0.7km from city centre</td>\n",
       "      <td>9.5</td>\n",
       "      <td>Superb</td>\n",
       "      <td>9.4</td>\n",
       "      <td>9.7</td>\n",
       "      <td>9.5</td>\n",
       "      <td>9.7</td>\n",
       "      <td>9.2</td>\n",
       "      <td>9.7</td>\n",
       "      <td>9.5</td>\n",
       "      <td>NaN</td>\n",
       "      <td>NaN</td>\n",
       "      <td>146.64</td>\n",
       "    </tr>\n",
       "    <tr>\n",
       "      <th>3</th>\n",
       "      <td>&amp;And Hostel Akihabara</td>\n",
       "      <td>Tokyo</td>\n",
       "      <td>3600</td>\n",
       "      <td>7.8km from city centre</td>\n",
       "      <td>8.7</td>\n",
       "      <td>Fabulous</td>\n",
       "      <td>8.0</td>\n",
       "      <td>7.0</td>\n",
       "      <td>9.0</td>\n",
       "      <td>8.0</td>\n",
       "      <td>10.0</td>\n",
       "      <td>10.0</td>\n",
       "      <td>9.0</td>\n",
       "      <td>139.777472</td>\n",
       "      <td>35.697447</td>\n",
       "      <td>203.05</td>\n",
       "    </tr>\n",
       "    <tr>\n",
       "      <th>4</th>\n",
       "      <td>&amp;And Hostel Ueno</td>\n",
       "      <td>Tokyo</td>\n",
       "      <td>2600</td>\n",
       "      <td>8.7km from city centre</td>\n",
       "      <td>7.4</td>\n",
       "      <td>Very Good</td>\n",
       "      <td>8.0</td>\n",
       "      <td>7.5</td>\n",
       "      <td>7.5</td>\n",
       "      <td>7.5</td>\n",
       "      <td>7.0</td>\n",
       "      <td>8.0</td>\n",
       "      <td>6.5</td>\n",
       "      <td>139.783667</td>\n",
       "      <td>35.712716</td>\n",
       "      <td>146.64</td>\n",
       "    </tr>\n",
       "    <tr>\n",
       "      <th>5</th>\n",
       "      <td>&amp;And Hostel-Asakusa North-</td>\n",
       "      <td>Tokyo</td>\n",
       "      <td>1500</td>\n",
       "      <td>10.5km from city centre</td>\n",
       "      <td>9.4</td>\n",
       "      <td>Superb</td>\n",
       "      <td>9.5</td>\n",
       "      <td>9.5</td>\n",
       "      <td>9.0</td>\n",
       "      <td>9.0</td>\n",
       "      <td>9.5</td>\n",
       "      <td>10.0</td>\n",
       "      <td>9.5</td>\n",
       "      <td>139.798371</td>\n",
       "      <td>35.727898</td>\n",
       "      <td>84.60</td>\n",
       "    </tr>\n",
       "  </tbody>\n",
       "</table>\n",
       "</div>"
      ],
      "text/plain": [
       "                    hostel.name          City  price.from  \\\n",
       "1  \"Bike & Bed\" CharinCo Hostel         Osaka        3300   \n",
       "2                  & And Hostel  Fukuoka-City        2600   \n",
       "3         &And Hostel Akihabara         Tokyo        3600   \n",
       "4              &And Hostel Ueno         Tokyo        2600   \n",
       "5    &And Hostel-Asakusa North-         Tokyo        1500   \n",
       "\n",
       "                  Distance  summary.score rating.band  atmosphere  \\\n",
       "1   2.9km from city centre            9.2      Superb         8.9   \n",
       "2   0.7km from city centre            9.5      Superb         9.4   \n",
       "3   7.8km from city centre            8.7    Fabulous         8.0   \n",
       "4   8.7km from city centre            7.4   Very Good         8.0   \n",
       "5  10.5km from city centre            9.4      Superb         9.5   \n",
       "\n",
       "   cleanliness  facilities  location.y  security  staff  valueformoney  \\\n",
       "1          9.4         9.3         8.9       9.0    9.4            9.4   \n",
       "2          9.7         9.5         9.7       9.2    9.7            9.5   \n",
       "3          7.0         9.0         8.0      10.0   10.0            9.0   \n",
       "4          7.5         7.5         7.5       7.0    8.0            6.5   \n",
       "5          9.5         9.0         9.0       9.5   10.0            9.5   \n",
       "\n",
       "          lon        lat  price.from.yuans  \n",
       "1  135.513767  34.682678            186.13  \n",
       "2         NaN        NaN            146.64  \n",
       "3  139.777472  35.697447            203.05  \n",
       "4  139.783667  35.712716            146.64  \n",
       "5  139.798371  35.727898             84.60  "
      ]
     },
     "execution_count": 4,
     "metadata": {},
     "output_type": "execute_result"
    }
   ],
   "source": [
    "# ваш код здесь\n",
    "hostels['price.from.yuans'] = round(hostels['price.from'] / 17.73, 2)\n",
    "hostels.head()"
   ]
  },
  {
   "cell_type": "markdown",
   "metadata": {
    "id": "h0ik9XLywJ1L"
   },
   "source": [
    "## Задание 4 (0.5 балла)\n",
    "Для переменной `price.from.yuans` найдите медианное значение для всех хостелов со значением переменной `valueformoney` 5 и выше."
   ]
  },
  {
   "cell_type": "code",
   "execution_count": 5,
   "metadata": {
    "id": "Rr4WBSnBqA0p"
   },
   "outputs": [
    {
     "data": {
      "text/plain": [
       "141.0"
      ]
     },
     "execution_count": 5,
     "metadata": {},
     "output_type": "execute_result"
    }
   ],
   "source": [
    "# ваш код здесь\n",
    "hostels[hostels['valueformoney'] >= 5]['price.from.yuans'].median()"
   ]
  },
  {
   "cell_type": "markdown",
   "metadata": {
    "id": "BpB3S5DLw3cC"
   },
   "source": [
    "## Задание 5 (0.5 балла)\n",
    "Переменная `rating.band` говорит нам, к какой категории принадлежит хостел, основываясь на его `summary.score`. Переменная `City` содержит информацию о локации хостелов. Сколько хостелов, принадлежащих к категории `Very Good`, находятся в `Hiroshima`? \n",
    "\n",
    "Выведите в ответе одно число."
   ]
  },
  {
   "cell_type": "code",
   "execution_count": 10,
   "metadata": {
    "id": "_xBPsqcvwked"
   },
   "outputs": [
    {
     "data": {
      "text/plain": [
       "0"
      ]
     },
     "execution_count": 10,
     "metadata": {},
     "output_type": "execute_result"
    }
   ],
   "source": [
    "# ваш код здесь\n",
    "hostels[(hostels['City'] == 'Hiroshima') & (hostels['rating.band'] == 'Very Good')].shape[0]"
   ]
  },
  {
   "cell_type": "markdown",
   "metadata": {
    "id": "4gIlLsCPxhtJ"
   },
   "source": [
    "## Задание 6 (0.5 балла)\n",
    "Найдите среднее значение переменной `price.from` (оригинальная переменная) для каждого уникального города в датасете (`City`). Используте метод группировки `.groupby()`"
   ]
  },
  {
   "cell_type": "code",
   "execution_count": 12,
   "metadata": {
    "id": "5vLx_b8Hqqsm"
   },
   "outputs": [
    {
     "data": {
      "text/plain": [
       "City\n",
       "Fukuoka-City     2736.842105\n",
       "Hiroshima        2578.571429\n",
       "Kyoto            2293.589744\n",
       "Osaka           12014.423077\n",
       "Tokyo           10647.244094\n",
       "Name: price.from, dtype: float64"
      ]
     },
     "execution_count": 12,
     "metadata": {},
     "output_type": "execute_result"
    }
   ],
   "source": [
    "# ваш код здесь\n",
    "hostels.groupby('City')['price.from'].mean()"
   ]
  },
  {
   "cell_type": "markdown",
   "metadata": {
    "id": "fda6L395yr5x"
   },
   "source": [
    "## Задание 7 (0.5 балла)"
   ]
  },
  {
   "cell_type": "markdown",
   "metadata": {
    "id": "aZ4OJFMvFt12"
   },
   "source": [
    "Для каждого города найдите число хостелов, для которых значение `staff` выше 9.5. Используйте метод для построения частотной таблицы `.value_counts()`"
   ]
  },
  {
   "cell_type": "code",
   "execution_count": 13,
   "metadata": {
    "id": "iYWNCzJixgsK"
   },
   "outputs": [
    {
     "data": {
      "text/plain": [
       "Osaka           40\n",
       "Kyoto           38\n",
       "Tokyo           36\n",
       "Fukuoka-City     8\n",
       "Hiroshima        8\n",
       "Name: City, dtype: int64"
      ]
     },
     "execution_count": 13,
     "metadata": {},
     "output_type": "execute_result"
    }
   ],
   "source": [
    "# ваш код здесь\n",
    "hostels[hostels['staff'] > 9.5]['City'].value_counts()"
   ]
  },
  {
   "cell_type": "markdown",
   "metadata": {
    "id": "QdhFn2zwwgE-"
   },
   "source": [
    "## Задание 8 (1 балл)\n",
    "\n",
    "Сколько выбросов содержит переменная `price.from` (оригинальная колонка), которые находятся выше среднего? Будем считать выбросами любые значения, находящиеся на расстоянии двух среднеквадратичных отклонений выше среднего. Найдите среднее значение с помощью `.mean()` и отклонение с помощью `.std()`"
   ]
  },
  {
   "cell_type": "code",
   "execution_count": 14,
   "metadata": {
    "id": "y8Df6tnFyCRx"
   },
   "outputs": [
    {
     "data": {
      "text/plain": [
       "2"
      ]
     },
     "execution_count": 14,
     "metadata": {},
     "output_type": "execute_result"
    }
   ],
   "source": [
    "# ваш код здесь\n",
    "mean = hostels['price.from'].mean()\n",
    "std = hostels['price.from'].std()\n",
    "th = mean + 2 * std\n",
    "(hostels['price.from'] > th).sum()"
   ]
  },
  {
   "cell_type": "markdown",
   "metadata": {
    "id": "bZazFPTszQNw"
   },
   "source": [
    "## Задание 9 (0.5 балла)\n",
    "\n",
    "Сколько `na` значений (пропущенных значений) содержат колонки `staff` и `Distance`? Используйте метод `.isna()` и метод `.sum()`. В ответе нужно вывести количество пропущенных значений только для этих двух колонок."
   ]
  },
  {
   "cell_type": "code",
   "execution_count": 15,
   "metadata": {
    "id": "yBgNL71kzRwV"
   },
   "outputs": [
    {
     "data": {
      "text/plain": [
       "staff       15\n",
       "Distance     0\n",
       "dtype: int64"
      ]
     },
     "execution_count": 15,
     "metadata": {},
     "output_type": "execute_result"
    }
   ],
   "source": [
    "# ваш код здесь\n",
    "hostels[['staff', 'Distance']].isna().sum()"
   ]
  },
  {
   "cell_type": "markdown",
   "metadata": {
    "id": "NXaC7gzszaWe"
   },
   "source": [
    "## Задание 10 (0.5 балла)\n",
    "\n",
    "Удалите из датасета все ряды, где пропущены значения колонок `atmosphere` и `valueformoney` (хотя бы одной из них). Используйте `.dropna()` метод с параметром `subset=[]`, где в списке перечисляются названия нужных переменных. Не сохраняйте результат (не изменяйте исходный датафрейм!)."
   ]
  },
  {
   "cell_type": "code",
   "execution_count": 17,
   "metadata": {
    "id": "kfqfP6XFzOk_"
   },
   "outputs": [
    {
     "data": {
      "text/plain": [
       "(327, 16)"
      ]
     },
     "execution_count": 17,
     "metadata": {},
     "output_type": "execute_result"
    }
   ],
   "source": [
    "# ваш код здесь\n",
    "hostels.dropna(subset=['atmosphere', 'valueformoney']).shape"
   ]
  },
  {
   "cell_type": "markdown",
   "metadata": {
    "id": "7fGqHxYR0MjF"
   },
   "source": [
    "## Задание 11 (1 балл)\n",
    "Заполните пропущенные значения в `summary.score` средним значением `summary.score` для каждого города. Используйте `.groupby()`, `.transform()` и `.fillna()`"
   ]
  },
  {
   "cell_type": "code",
   "execution_count": 25,
   "metadata": {
    "id": "VkTGFZ2Tw5mU"
   },
   "outputs": [
    {
     "data": {
      "text/plain": [
       "1      9.2\n",
       "2      9.5\n",
       "3      8.7\n",
       "4      7.4\n",
       "5      9.4\n",
       "      ... \n",
       "338    8.2\n",
       "339    8.9\n",
       "340    9.3\n",
       "341    8.0\n",
       "342    8.6\n",
       "Name: summary.score, Length: 342, dtype: float64"
      ]
     },
     "execution_count": 25,
     "metadata": {},
     "output_type": "execute_result"
    }
   ],
   "source": [
    "# ваш код здесь\n",
    "hostels['summary.score'].fillna(hostels.groupby('City')['summary.score'].transform('mean'))"
   ]
  },
  {
   "cell_type": "code",
   "execution_count": 27,
   "metadata": {},
   "outputs": [
    {
     "data": {
      "text/plain": [
       "8.784584661766694"
      ]
     },
     "execution_count": 27,
     "metadata": {},
     "output_type": "execute_result"
    }
   ],
   "source": [
    "# для проверки\n",
    "hostels['summary.score'].fillna(hostels.groupby('City')['summary.score'].transform('mean')).mean()"
   ]
  },
  {
   "cell_type": "markdown",
   "metadata": {
    "id": "OZtt3mR3IWUc"
   },
   "source": [
    "## Задание 12 (1 балл)"
   ]
  },
  {
   "cell_type": "markdown",
   "metadata": {
    "id": "pSzPTGxrnEf1"
   },
   "source": [
    "Создайте новую переменную `Distance.km` — она должна выражаться вещественным числом — расстрояние хостела в километрах от центра города."
   ]
  },
  {
   "cell_type": "code",
   "execution_count": 28,
   "metadata": {
    "colab": {
     "base_uri": "https://localhost:8080/",
     "height": 400
    },
    "id": "VornWOq9nZU7",
    "outputId": "0267f238-af95-4051-80b4-737a782ed48d"
   },
   "outputs": [
    {
     "data": {
      "text/html": [
       "<div>\n",
       "<style scoped>\n",
       "    .dataframe tbody tr th:only-of-type {\n",
       "        vertical-align: middle;\n",
       "    }\n",
       "\n",
       "    .dataframe tbody tr th {\n",
       "        vertical-align: top;\n",
       "    }\n",
       "\n",
       "    .dataframe thead th {\n",
       "        text-align: right;\n",
       "    }\n",
       "</style>\n",
       "<table border=\"1\" class=\"dataframe\">\n",
       "  <thead>\n",
       "    <tr style=\"text-align: right;\">\n",
       "      <th></th>\n",
       "      <th>hostel.name</th>\n",
       "      <th>City</th>\n",
       "      <th>price.from</th>\n",
       "      <th>Distance</th>\n",
       "      <th>summary.score</th>\n",
       "      <th>rating.band</th>\n",
       "      <th>atmosphere</th>\n",
       "      <th>cleanliness</th>\n",
       "      <th>facilities</th>\n",
       "      <th>location.y</th>\n",
       "      <th>security</th>\n",
       "      <th>staff</th>\n",
       "      <th>valueformoney</th>\n",
       "      <th>lon</th>\n",
       "      <th>lat</th>\n",
       "      <th>price.from.yuans</th>\n",
       "      <th>Distance.km</th>\n",
       "    </tr>\n",
       "  </thead>\n",
       "  <tbody>\n",
       "    <tr>\n",
       "      <th>1</th>\n",
       "      <td>\"Bike &amp; Bed\" CharinCo Hostel</td>\n",
       "      <td>Osaka</td>\n",
       "      <td>3300</td>\n",
       "      <td>2.9km from city centre</td>\n",
       "      <td>9.2</td>\n",
       "      <td>Superb</td>\n",
       "      <td>8.9</td>\n",
       "      <td>9.4</td>\n",
       "      <td>9.3</td>\n",
       "      <td>8.9</td>\n",
       "      <td>9.0</td>\n",
       "      <td>9.4</td>\n",
       "      <td>9.4</td>\n",
       "      <td>135.513767</td>\n",
       "      <td>34.682678</td>\n",
       "      <td>186.13</td>\n",
       "      <td>2.9</td>\n",
       "    </tr>\n",
       "    <tr>\n",
       "      <th>2</th>\n",
       "      <td>&amp; And Hostel</td>\n",
       "      <td>Fukuoka-City</td>\n",
       "      <td>2600</td>\n",
       "      <td>0.7km from city centre</td>\n",
       "      <td>9.5</td>\n",
       "      <td>Superb</td>\n",
       "      <td>9.4</td>\n",
       "      <td>9.7</td>\n",
       "      <td>9.5</td>\n",
       "      <td>9.7</td>\n",
       "      <td>9.2</td>\n",
       "      <td>9.7</td>\n",
       "      <td>9.5</td>\n",
       "      <td>NaN</td>\n",
       "      <td>NaN</td>\n",
       "      <td>146.64</td>\n",
       "      <td>0.7</td>\n",
       "    </tr>\n",
       "    <tr>\n",
       "      <th>3</th>\n",
       "      <td>&amp;And Hostel Akihabara</td>\n",
       "      <td>Tokyo</td>\n",
       "      <td>3600</td>\n",
       "      <td>7.8km from city centre</td>\n",
       "      <td>8.7</td>\n",
       "      <td>Fabulous</td>\n",
       "      <td>8.0</td>\n",
       "      <td>7.0</td>\n",
       "      <td>9.0</td>\n",
       "      <td>8.0</td>\n",
       "      <td>10.0</td>\n",
       "      <td>10.0</td>\n",
       "      <td>9.0</td>\n",
       "      <td>139.777472</td>\n",
       "      <td>35.697447</td>\n",
       "      <td>203.05</td>\n",
       "      <td>7.8</td>\n",
       "    </tr>\n",
       "    <tr>\n",
       "      <th>4</th>\n",
       "      <td>&amp;And Hostel Ueno</td>\n",
       "      <td>Tokyo</td>\n",
       "      <td>2600</td>\n",
       "      <td>8.7km from city centre</td>\n",
       "      <td>7.4</td>\n",
       "      <td>Very Good</td>\n",
       "      <td>8.0</td>\n",
       "      <td>7.5</td>\n",
       "      <td>7.5</td>\n",
       "      <td>7.5</td>\n",
       "      <td>7.0</td>\n",
       "      <td>8.0</td>\n",
       "      <td>6.5</td>\n",
       "      <td>139.783667</td>\n",
       "      <td>35.712716</td>\n",
       "      <td>146.64</td>\n",
       "      <td>8.7</td>\n",
       "    </tr>\n",
       "    <tr>\n",
       "      <th>5</th>\n",
       "      <td>&amp;And Hostel-Asakusa North-</td>\n",
       "      <td>Tokyo</td>\n",
       "      <td>1500</td>\n",
       "      <td>10.5km from city centre</td>\n",
       "      <td>9.4</td>\n",
       "      <td>Superb</td>\n",
       "      <td>9.5</td>\n",
       "      <td>9.5</td>\n",
       "      <td>9.0</td>\n",
       "      <td>9.0</td>\n",
       "      <td>9.5</td>\n",
       "      <td>10.0</td>\n",
       "      <td>9.5</td>\n",
       "      <td>139.798371</td>\n",
       "      <td>35.727898</td>\n",
       "      <td>84.60</td>\n",
       "      <td>10.5</td>\n",
       "    </tr>\n",
       "  </tbody>\n",
       "</table>\n",
       "</div>"
      ],
      "text/plain": [
       "                    hostel.name          City  price.from  \\\n",
       "1  \"Bike & Bed\" CharinCo Hostel         Osaka        3300   \n",
       "2                  & And Hostel  Fukuoka-City        2600   \n",
       "3         &And Hostel Akihabara         Tokyo        3600   \n",
       "4              &And Hostel Ueno         Tokyo        2600   \n",
       "5    &And Hostel-Asakusa North-         Tokyo        1500   \n",
       "\n",
       "                  Distance  summary.score rating.band  atmosphere  \\\n",
       "1   2.9km from city centre            9.2      Superb         8.9   \n",
       "2   0.7km from city centre            9.5      Superb         9.4   \n",
       "3   7.8km from city centre            8.7    Fabulous         8.0   \n",
       "4   8.7km from city centre            7.4   Very Good         8.0   \n",
       "5  10.5km from city centre            9.4      Superb         9.5   \n",
       "\n",
       "   cleanliness  facilities  location.y  security  staff  valueformoney  \\\n",
       "1          9.4         9.3         8.9       9.0    9.4            9.4   \n",
       "2          9.7         9.5         9.7       9.2    9.7            9.5   \n",
       "3          7.0         9.0         8.0      10.0   10.0            9.0   \n",
       "4          7.5         7.5         7.5       7.0    8.0            6.5   \n",
       "5          9.5         9.0         9.0       9.5   10.0            9.5   \n",
       "\n",
       "          lon        lat  price.from.yuans  Distance.km  \n",
       "1  135.513767  34.682678            186.13          2.9  \n",
       "2         NaN        NaN            146.64          0.7  \n",
       "3  139.777472  35.697447            203.05          7.8  \n",
       "4  139.783667  35.712716            146.64          8.7  \n",
       "5  139.798371  35.727898             84.60         10.5  "
      ]
     },
     "execution_count": 28,
     "metadata": {},
     "output_type": "execute_result"
    }
   ],
   "source": [
    "# ваш код здесь\n",
    "hostels['Distance.km'] = hostels['Distance'].apply(lambda x: float(x.split('km')[0]))\n",
    "hostels.head()"
   ]
  },
  {
   "cell_type": "markdown",
   "metadata": {
    "id": "H1QtuOTDpJBA"
   },
   "source": [
    "## Задание 13 (1 балл)"
   ]
  },
  {
   "cell_type": "markdown",
   "metadata": {
    "id": "tm1yKiXzI6et"
   },
   "source": [
    "Создайте бинарную переменную `Hiroshima.Centre`. Хостелы, которые находятся не дальше 1 км от центра города Хиросимы кодируются единицей, остальные — нулем."
   ]
  },
  {
   "cell_type": "code",
   "execution_count": 32,
   "metadata": {
    "id": "BG5uoPHFmvUx"
   },
   "outputs": [
    {
     "data": {
      "text/plain": [
       "2"
      ]
     },
     "execution_count": 32,
     "metadata": {},
     "output_type": "execute_result"
    }
   ],
   "source": [
    "import numpy as np\n",
    "hostels['Hiroshima.Centre'] = np.where((hostels['City'] == 'Hiroshima') & (hostels['Distance.km'] <= 1), 1, 0)\n",
    "hostels['Hiroshima.Centre'].sum() # для проверки"
   ]
  },
  {
   "cell_type": "markdown",
   "metadata": {
    "id": "OAP0p8Y5uuJq"
   },
   "source": [
    "## Задание 14 (1 балл)\n",
    "\n",
    "Используя переменную `Hiroshima.Centre` посчитайте процент всех хостелов, находящихся в Хиросиме, находятся в центре города."
   ]
  },
  {
   "cell_type": "code",
   "execution_count": 35,
   "metadata": {
    "id": "D5UaeI3u4jgr"
   },
   "outputs": [
    {
     "data": {
      "text/plain": [
       "14.29"
      ]
     },
     "execution_count": 35,
     "metadata": {},
     "output_type": "execute_result"
    }
   ],
   "source": [
    "round(hostels['Hiroshima.Centre'].sum() / (hostels['City'] == 'Hiroshima').sum() * 100, 2)"
   ]
  },
  {
   "cell_type": "markdown",
   "metadata": {},
   "source": [
    "## Задание 15 (1.5 балла)\n",
    "\n",
    "Постройте столбчатую диаграмму, где по оси x будут названия городов, а по оси y — средняя цена хостела в этом городе. Для получения полного балла выполните все шаги в ячейке ниже (каждый шаг 0.5 балла).\n",
    "\n",
    "Референс: \n",
    "\n",
    "![](https://github.com/rogovich/2022_POL_Data_Analysis_in_Python/blob/main/@Test/01_Test/reference_1.png?raw=true)"
   ]
  },
  {
   "cell_type": "code",
   "execution_count": 37,
   "metadata": {},
   "outputs": [
    {
     "data": {
      "image/png": "[encoded data removed]",
      "text/plain": [
       "<Figure size 504x360 with 1 Axes>"
      ]
     },
     "metadata": {
      "needs_background": "light"
     },
     "output_type": "display_data"
    }
   ],
   "source": [
    "# Инициализируем переменные fig, ax и задаем размер графика 7 на 5 дюймов\n",
    "fig, ax = plt.subplots(figsize = (7,5))\n",
    "\n",
    "# 1. Сгруппируйте данные и сохраните в переменную `cities_price`\n",
    "cities_price = hostels.groupby('City')['price.from'].mean()\n",
    "# 2. Постройсте столбчатую диаграмму: для оси x используйте индекс объекта `cities_price`\n",
    "# для оси y — значения `cities_price`. Сделайте столбики красного цвета\n",
    "ax.bar(cities_price.index, cities_price, color='red')\n",
    "# 3. Подпишите ось x `Город`, а ось y — 'Средняя цена за ночь'\n",
    "ax.set_xlabel('Город')\n",
    "ax.set_ylabel('Средняя цена за ночь')\n",
    "plt.show()"
   ]
  },
  {
   "cell_type": "markdown",
   "metadata": {},
   "source": [
    "## Задание 16 (2 балла)\n",
    "\n",
    "Постройте график рассеяния для хостелов в Киото (`Kyoto`), где по оси x будет цена хостела, по оси y — суммарный рейтинг (`summary.score`), а за цвет будет отвечать колонка `valueformoney`. Для получения полного балла выполните все шаги в ячейке ниже. Каждый шаг 0.5 балла.\n",
    "\n",
    "Референс: \n",
    "\n",
    "![](https://github.com/rogovich/2022_POL_Data_Analysis_in_Python/blob/main/@Test/01_Test/reference_3.png?raw=true)"
   ]
  },
  {
   "cell_type": "code",
   "execution_count": 41,
   "metadata": {},
   "outputs": [
    {
     "data": {
      "image/png": "[encoded data removed]",
      "text/plain": [
       "<Figure size 720x360 with 2 Axes>"
      ]
     },
     "metadata": {
      "needs_background": "light"
     },
     "output_type": "display_data"
    }
   ],
   "source": [
    "# Инициализируем переменные fig, ax и задаем размер графика 10 на 5 дюймов\n",
    "fig, ax = plt.subplots(figsize = (10,5))\n",
    "\n",
    "# 1. Отфильтруйте только хостелы в Киото и сохраните в переменную kyoto\n",
    "kyoto = hostels[hostels['City'] == 'Kyoto']\n",
    "\n",
    "# 2. Постройте график рассеяния по условию. Добавьте уровень прозрачности равный 50%. Сохраните график в переменную graph\n",
    "graph = ax.scatter(kyoto['price.from'], kyoto['summary.score'], c=kyoto['valueformoney'])\n",
    "\n",
    "# 3. С помощью функции plt.colorbar() выведите цветовую шкалу для 'valueformoney'\n",
    "# передайте в функцию переменную graph и задайте аргумент label строкой  \"Соотношение цена-качество\"\n",
    "plt.colorbar(graph, label=\"Соотношение цена-качество\")\n",
    "\n",
    "# 4. Подпишите шкалу x \"Цена за ночь\", а шкалу y — \"Суммарный рейтинг\"\n",
    "ax.set_xlabel('Цена за ночь')\n",
    "ax.set_ylabel('Суммарный рейтинг')\n",
    "plt.show()"
   ]
  }
 ],
 "metadata": {
  "colab": {
   "collapsed_sections": [],
   "name": "KH_STATS_Midterm.ipynb",
   "provenance": []
  },
  "kernelspec": {
   "display_name": "Python 3",
   "language": "python",
   "name": "python3"
  },
  "language_info": {
   "codemirror_mode": {
    "name": "ipython",
    "version": 3
   },
   "file_extension": ".py",
   "mimetype": "text/x-python",
   "name": "python",
   "nbconvert_exporter": "python",
   "pygments_lexer": "ipython3",
   "version": "3.8.5"
  }
 },
 "nbformat": 4,
 "nbformat_minor": 4
}
