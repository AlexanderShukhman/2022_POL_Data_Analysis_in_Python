{
 "cells": [
  {
   "cell_type": "markdown",
   "metadata": {
    "id": "yDN3StLrZPch"
   },
   "source": [
    "# Practice №2"
   ]
  },
  {
   "cell_type": "markdown",
   "metadata": {
    "id": "XBf_fCYW9knq"
   },
   "source": [
    "## Some information about the dataframe\n",
    "\n",
    "This is Ramen Ratings dataset retrieved from [theramenrater.com](https://www.theramenrater.com/)\n",
    "\n",
    "Each row has 7 columns:\n",
    "\n",
    "**Index**: The number of ID of the ramen\n",
    "\n",
    "**URL**: The URL to the review for each ramen\n",
    "\n",
    "**Brand**: The brand of the ramen manufacturer\n",
    "\n",
    "**Variety**: The specific name of the ramen\n",
    "\n",
    "**Style**: Packaging of the ramen\n",
    "\n",
    "**Country**: Country of origin\n",
    "\n",
    "**Stars**: The rating of the ramen, as provided by theramenrater."
   ]
  },
  {
   "cell_type": "markdown",
   "metadata": {
    "id": "9FbbsMfKdJ7K"
   },
   "source": [
    "### Loading the dataset"
   ]
  },
  {
   "cell_type": "markdown",
   "metadata": {
    "id": "Ix-ZPtNviels"
   },
   "source": [
    "1. Import pandas with shortened name. *0.5 point*\n",
    "\n",
    "\n",
    "\n",
    "\n",
    "\n"
   ]
  },
  {
   "cell_type": "code",
   "execution_count": null,
   "metadata": {
    "id": "9JvBt7pniIIm"
   },
   "outputs": [],
   "source": []
  },
  {
   "cell_type": "markdown",
   "metadata": {
    "id": "DjYVOotei01t"
   },
   "source": [
    "2. Please upload the ramen.csv dataset and save it into a new variable using `pd.read_csv`. *0.5 point*"
   ]
  },
  {
   "cell_type": "code",
   "execution_count": null,
   "metadata": {
    "id": "SUHKxyC7jDqa"
   },
   "outputs": [],
   "source": []
  },
  {
   "cell_type": "markdown",
   "metadata": {
    "id": "UeVxFvVnnCjw"
   },
   "source": [
    "### 2. Exploring the dataset"
   ]
  },
  {
   "cell_type": "markdown",
   "metadata": {
    "id": "bhnMZfryjX8b"
   },
   "source": [
    "3. Display the `head` of the dataset. *0.5 point*\n",
    "\n",
    "\n",
    "\n"
   ]
  },
  {
   "cell_type": "code",
   "execution_count": null,
   "metadata": {
    "id": "oJtCnvsSjefq"
   },
   "outputs": [],
   "source": []
  },
  {
   "cell_type": "markdown",
   "metadata": {
    "id": "2zGSloCKkRLe"
   },
   "source": [
    "4. Display the list with the names of columns. *0.5 point*"
   ]
  },
  {
   "cell_type": "code",
   "execution_count": null,
   "metadata": {
    "id": "j1YtZS8Fjf7y"
   },
   "outputs": [],
   "source": []
  },
  {
   "cell_type": "markdown",
   "metadata": {
    "id": "d2EeYi1Bkc5_"
   },
   "source": [
    "5. Display the `info` about the columns in the ramen dataset. *1 point*"
   ]
  },
  {
   "cell_type": "code",
   "execution_count": null,
   "metadata": {
    "id": "CzfAHT8IjnPR"
   },
   "outputs": [],
   "source": []
  },
  {
   "cell_type": "markdown",
   "metadata": {
    "id": "jouUBm61kcyM"
   },
   "source": [
    "Are there any missing values in the `Stars` column? Answer YES or NO. "
   ]
  },
  {
   "cell_type": "code",
   "execution_count": null,
   "metadata": {
    "id": "zhAE47SanXxQ"
   },
   "outputs": [],
   "source": []
  },
  {
   "cell_type": "markdown",
   "metadata": {
    "id": "zT9qrKX-5F03"
   },
   "source": [
    "6. How many rows and columns are in the table? Get the number by calling a DataFrame attribute. *1 point*"
   ]
  },
  {
   "cell_type": "code",
   "execution_count": null,
   "metadata": {
    "id": "ErPukHDSjr1h"
   },
   "outputs": [],
   "source": []
  },
  {
   "cell_type": "markdown",
   "metadata": {
    "id": "VU4MUwKskcp0"
   },
   "source": [
    "7. How many unique brands of ramen are there in the dataset? *1 point*"
   ]
  },
  {
   "cell_type": "code",
   "execution_count": null,
   "metadata": {
    "id": "9or-SJ4Ljtg7"
   },
   "outputs": [],
   "source": []
  },
  {
   "cell_type": "markdown",
   "metadata": {
    "id": "cI280Ai8kchr"
   },
   "source": [
    "8. Select ```Brand```, ```Variety``` and ```Stars``` columns from the dataset and display them. *1 point*"
   ]
  },
  {
   "cell_type": "code",
   "execution_count": null,
   "metadata": {
    "id": "2cRSqjJ5juio"
   },
   "outputs": [],
   "source": []
  },
  {
   "cell_type": "markdown",
   "metadata": {
    "id": "8HGZkdDhkcZV"
   },
   "source": [
    "9. Find the row stored under index 1399 in the dataset and display it. *1 point*"
   ]
  },
  {
   "cell_type": "code",
   "execution_count": null,
   "metadata": {
    "id": "Gg1gUCbqjwrc"
   },
   "outputs": [],
   "source": []
  },
  {
   "cell_type": "markdown",
   "metadata": {
    "id": "DvtSNrnAp4nZ"
   },
   "source": [
    "Would you like to try it one day? ;) "
   ]
  },
  {
   "cell_type": "markdown",
   "metadata": {
    "id": "G_brbv8CkcMC"
   },
   "source": [
    "### 3. Filtering the dataset"
   ]
  },
  {
   "cell_type": "markdown",
   "metadata": {
    "id": "31MPcITMkcCu"
   },
   "source": [
    "We all like a good cup of noodles. So now we are going to search for the best one out there. "
   ]
  },
  {
   "cell_type": "markdown",
   "metadata": {
    "id": "wKW6IphBkbv2"
   },
   "source": [
    "10. Filter the data according to the column ```Stars```. We want our ramen to have more than 4 stars. *1 point*"
   ]
  },
  {
   "cell_type": "code",
   "execution_count": null,
   "metadata": {
    "id": "UjI-keVtj5pw"
   },
   "outputs": [],
   "source": []
  },
  {
   "cell_type": "markdown",
   "metadata": {
    "id": "xxqDq27VkbiN"
   },
   "source": [
    "It is well known that the best ramen is produced in South Korea, Japan or China. "
   ]
  },
  {
   "cell_type": "markdown",
   "metadata": {
    "id": "iXmnHsOFkbN9"
   },
   "source": [
    "11. Please filter the ramen that is origined from South Korea ```or``` Japan ```or``` China *1 point*"
   ]
  },
  {
   "cell_type": "code",
   "execution_count": null,
   "metadata": {
    "id": "5NMw5JmrkAYe"
   },
   "outputs": [],
   "source": []
  },
  {
   "cell_type": "markdown",
   "metadata": {
    "id": "9OBw8Ks7w2zB"
   },
   "source": [
    "Now let's combine our findings and find the best brands of ramen in the market. "
   ]
  },
  {
   "cell_type": "markdown",
   "metadata": {
    "id": "aC5ulVSwxBOu"
   },
   "source": [
    "12. Combine two filters that you have just set up in the tasks 10-11 using ```&```. *1 point*"
   ]
  },
  {
   "cell_type": "code",
   "execution_count": null,
   "metadata": {
    "id": "uzlJw3pukD96"
   },
   "outputs": [],
   "source": []
  },
  {
   "cell_type": "markdown",
   "metadata": {
    "id": "beI8S6eBxp8c"
   },
   "source": [
    "### Bonus tasks"
   ]
  },
  {
   "cell_type": "markdown",
   "metadata": {
    "id": "IcCZIVTZyCYN"
   },
   "source": [
    "13. Display the number of existing ramen brands: \n",
    "- from Malaysia\n",
    "- with the rating of *at least 4.5* stars\n",
    "- with style of pack\n",
    "\n",
    "*1 point*"
   ]
  },
  {
   "cell_type": "code",
   "execution_count": null,
   "metadata": {
    "id": "8ViPgX7LkIUD"
   },
   "outputs": [],
   "source": []
  },
  {
   "cell_type": "markdown",
   "metadata": {
    "id": "4aCXexe8l3Jl"
   },
   "source": [
    "14. Change the name of the column ```Stars``` to the name ```Score```. \n",
    "*Find some information about pandas methods for doing so in the [documentation](https://pandas.pydata.org/docs/index.html) (use search the docs in the left)*\n",
    "\n",
    "*1 point*\n"
   ]
  },
  {
   "cell_type": "code",
   "execution_count": null,
   "metadata": {
    "id": "HC1MOvhwgZT4"
   },
   "outputs": [],
   "source": []
  }
 ],
 "metadata": {
  "colab": {
   "collapsed_sections": [],
   "name": "Practice_2_V1.ipynb",
   "provenance": []
  },
  "kernelspec": {
   "display_name": "Python 3",
   "language": "python",
   "name": "python3"
  },
  "language_info": {
   "codemirror_mode": {
    "name": "ipython",
    "version": 3
   },
   "file_extension": ".py",
   "mimetype": "text/x-python",
   "name": "python",
   "nbconvert_exporter": "python",
   "pygments_lexer": "ipython3",
   "version": "3.8.5"
  }
 },
 "nbformat": 4,
 "nbformat_minor": 4
}
