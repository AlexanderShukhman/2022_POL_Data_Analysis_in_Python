{
 "cells": [
  {
   "cell_type": "code",
   "execution_count": 2,
   "metadata": {},
   "outputs": [],
   "source": [
    "import pandas as pd\n",
    "bikes = pd.read_pickle('https://github.com/rogovich/Data/blob/master/data/BikesDataVars.pkl?raw=true')"
   ]
  },
  {
   "cell_type": "code",
   "execution_count": 20,
   "metadata": {},
   "outputs": [
    {
     "data": {
      "text/html": [
       "<div>\n",
       "<style scoped>\n",
       "    .dataframe tbody tr th:only-of-type {\n",
       "        vertical-align: middle;\n",
       "    }\n",
       "\n",
       "    .dataframe tbody tr th {\n",
       "        vertical-align: top;\n",
       "    }\n",
       "\n",
       "    .dataframe thead th {\n",
       "        text-align: right;\n",
       "    }\n",
       "</style>\n",
       "<table border=\"1\" class=\"dataframe\">\n",
       "  <thead>\n",
       "    <tr style=\"text-align: right;\">\n",
       "      <th></th>\n",
       "      <th>Date</th>\n",
       "      <th>Hour</th>\n",
       "      <th>Temperature</th>\n",
       "      <th>Humidity</th>\n",
       "      <th>Wind speed</th>\n",
       "      <th>Rainfall</th>\n",
       "      <th>Snowfall</th>\n",
       "      <th>Seasons</th>\n",
       "      <th>Holiday</th>\n",
       "      <th>Functioning Day</th>\n",
       "      <th>Rental Count</th>\n",
       "      <th>Normal Humidity</th>\n",
       "      <th>Temperature Category</th>\n",
       "      <th>Good weather</th>\n",
       "    </tr>\n",
       "  </thead>\n",
       "  <tbody>\n",
       "    <tr>\n",
       "      <th>0</th>\n",
       "      <td>2017-12-01</td>\n",
       "      <td>0</td>\n",
       "      <td>-5.2</td>\n",
       "      <td>37</td>\n",
       "      <td>2.2</td>\n",
       "      <td>0.0</td>\n",
       "      <td>0.0</td>\n",
       "      <td>Winter</td>\n",
       "      <td>0</td>\n",
       "      <td>True</td>\n",
       "      <td>257</td>\n",
       "      <td>0</td>\n",
       "      <td>Freezing</td>\n",
       "      <td>0</td>\n",
       "    </tr>\n",
       "    <tr>\n",
       "      <th>1</th>\n",
       "      <td>2017-12-01</td>\n",
       "      <td>1</td>\n",
       "      <td>-5.5</td>\n",
       "      <td>38</td>\n",
       "      <td>0.8</td>\n",
       "      <td>0.0</td>\n",
       "      <td>0.0</td>\n",
       "      <td>Winter</td>\n",
       "      <td>0</td>\n",
       "      <td>True</td>\n",
       "      <td>219</td>\n",
       "      <td>0</td>\n",
       "      <td>Freezing</td>\n",
       "      <td>0</td>\n",
       "    </tr>\n",
       "    <tr>\n",
       "      <th>2</th>\n",
       "      <td>2017-12-01</td>\n",
       "      <td>2</td>\n",
       "      <td>-6.0</td>\n",
       "      <td>39</td>\n",
       "      <td>1.0</td>\n",
       "      <td>0.0</td>\n",
       "      <td>0.0</td>\n",
       "      <td>Winter</td>\n",
       "      <td>0</td>\n",
       "      <td>True</td>\n",
       "      <td>162</td>\n",
       "      <td>0</td>\n",
       "      <td>Freezing</td>\n",
       "      <td>0</td>\n",
       "    </tr>\n",
       "    <tr>\n",
       "      <th>3</th>\n",
       "      <td>2017-12-01</td>\n",
       "      <td>3</td>\n",
       "      <td>-6.2</td>\n",
       "      <td>40</td>\n",
       "      <td>0.9</td>\n",
       "      <td>0.0</td>\n",
       "      <td>0.0</td>\n",
       "      <td>Winter</td>\n",
       "      <td>0</td>\n",
       "      <td>True</td>\n",
       "      <td>148</td>\n",
       "      <td>1</td>\n",
       "      <td>Freezing</td>\n",
       "      <td>0</td>\n",
       "    </tr>\n",
       "    <tr>\n",
       "      <th>4</th>\n",
       "      <td>2017-12-01</td>\n",
       "      <td>4</td>\n",
       "      <td>-6.0</td>\n",
       "      <td>36</td>\n",
       "      <td>2.3</td>\n",
       "      <td>0.0</td>\n",
       "      <td>0.0</td>\n",
       "      <td>Winter</td>\n",
       "      <td>0</td>\n",
       "      <td>True</td>\n",
       "      <td>97</td>\n",
       "      <td>0</td>\n",
       "      <td>Freezing</td>\n",
       "      <td>0</td>\n",
       "    </tr>\n",
       "  </tbody>\n",
       "</table>\n",
       "</div>"
      ],
      "text/plain": [
       "        Date  Hour  Temperature  Humidity  Wind speed  Rainfall  Snowfall  \\\n",
       "0 2017-12-01     0         -5.2        37         2.2       0.0       0.0   \n",
       "1 2017-12-01     1         -5.5        38         0.8       0.0       0.0   \n",
       "2 2017-12-01     2         -6.0        39         1.0       0.0       0.0   \n",
       "3 2017-12-01     3         -6.2        40         0.9       0.0       0.0   \n",
       "4 2017-12-01     4         -6.0        36         2.3       0.0       0.0   \n",
       "\n",
       "  Seasons  Holiday  Functioning Day  Rental Count  Normal Humidity  \\\n",
       "0  Winter        0             True           257                0   \n",
       "1  Winter        0             True           219                0   \n",
       "2  Winter        0             True           162                0   \n",
       "3  Winter        0             True           148                1   \n",
       "4  Winter        0             True            97                0   \n",
       "\n",
       "  Temperature Category  Good weather  \n",
       "0             Freezing             0  \n",
       "1             Freezing             0  \n",
       "2             Freezing             0  \n",
       "3             Freezing             0  \n",
       "4             Freezing             0  "
      ]
     },
     "execution_count": 20,
     "metadata": {},
     "output_type": "execute_result"
    }
   ],
   "source": [
    "bikes.head()"
   ]
  },
  {
   "cell_type": "code",
   "execution_count": 15,
   "metadata": {},
   "outputs": [
    {
     "data": {
      "text/plain": [
       "Spring    2208\n",
       "Summer    2208\n",
       "Autumn    2184\n",
       "Winter    2160\n",
       "Name: Seasons, dtype: int64"
      ]
     },
     "execution_count": 15,
     "metadata": {},
     "output_type": "execute_result"
    }
   ],
   "source": [
    "bikes['Seasons'].value_counts()"
   ]
  },
  {
   "cell_type": "code",
   "execution_count": 16,
   "metadata": {},
   "outputs": [
    {
     "data": {
      "text/plain": [
       "0    7948\n",
       "1     812\n",
       "Name: Good weather, dtype: int64"
      ]
     },
     "execution_count": 16,
     "metadata": {},
     "output_type": "execute_result"
    }
   ],
   "source": [
    "bikes['Good weather'].value_counts()"
   ]
  },
  {
   "cell_type": "code",
   "execution_count": 17,
   "metadata": {},
   "outputs": [
    {
     "data": {
      "text/plain": [
       " 23.4    39\n",
       " 19.1    38\n",
       " 20.5    38\n",
       " 20.7    37\n",
       " 24.2    37\n",
       "         ..\n",
       "-14.7     1\n",
       " 37.9     1\n",
       "-12.6     1\n",
       " 37.5     1\n",
       "-14.5     1\n",
       "Name: Temperature, Length: 545, dtype: int64"
      ]
     },
     "execution_count": 17,
     "metadata": {},
     "output_type": "execute_result"
    }
   ],
   "source": [
    "bikes['Temperature'].value_counts()"
   ]
  },
  {
   "cell_type": "code",
   "execution_count": 1,
   "metadata": {},
   "outputs": [
    {
     "ename": "NameError",
     "evalue": "name 'bikes' is not defined",
     "output_type": "error",
     "traceback": [
      "\u001b[0;31m---------------------------------------------------------------------------\u001b[0m",
      "\u001b[0;31mNameError\u001b[0m                                 Traceback (most recent call last)",
      "\u001b[0;32m<ipython-input-1-919d7bd7e6bb>\u001b[0m in \u001b[0;36m<module>\u001b[0;34m\u001b[0m\n\u001b[0;32m----> 1\u001b[0;31m \u001b[0mbikes\u001b[0m\u001b[0;34m[\u001b[0m\u001b[0;34m'Temperature'\u001b[0m\u001b[0;34m]\u001b[0m\u001b[0;34m.\u001b[0m\u001b[0mhist\u001b[0m\u001b[0;34m(\u001b[0m\u001b[0mbins\u001b[0m \u001b[0;34m=\u001b[0m \u001b[0;36m5\u001b[0m\u001b[0;34m)\u001b[0m \u001b[0;31m# bins - корзинки\u001b[0m\u001b[0;34m\u001b[0m\u001b[0;34m\u001b[0m\u001b[0m\n\u001b[0m",
      "\u001b[0;31mNameError\u001b[0m: name 'bikes' is not defined"
     ]
    }
   ],
   "source": [
    "bikes['Temperature'].hist(bins = 5) # bins - корзинки"
   ]
  },
  {
   "cell_type": "code",
   "execution_count": 21,
   "metadata": {},
   "outputs": [
    {
     "data": {
      "text/plain": [
       "Date\n",
       "2017-12-01     9802\n",
       "2017-12-02     8404\n",
       "2017-12-03     8644\n",
       "2017-12-04     9556\n",
       "2017-12-05     6578\n",
       "              ...  \n",
       "2018-11-26    13934\n",
       "2018-11-27    13964\n",
       "2018-11-28    17378\n",
       "2018-11-29    18058\n",
       "2018-11-30    17543\n",
       "Name: Rental Count, Length: 365, dtype: int64"
      ]
     },
     "execution_count": 21,
     "metadata": {},
     "output_type": "execute_result"
    }
   ],
   "source": [
    "bikes.groupby('Date')['Rental Count'].sum()"
   ]
  },
  {
   "cell_type": "code",
   "execution_count": 23,
   "metadata": {},
   "outputs": [
    {
     "data": {
      "text/plain": [
       "Date\n",
       "2017-12-01    326.5\n",
       "2017-12-02    250.0\n",
       "2017-12-03    268.5\n",
       "2017-12-04    334.5\n",
       "2017-12-05    222.5\n",
       "              ...  \n",
       "2018-11-26    449.5\n",
       "2018-11-27    641.0\n",
       "2018-11-28    637.5\n",
       "2018-11-29    576.5\n",
       "2018-11-30    679.0\n",
       "Name: Rental Count, Length: 365, dtype: float64"
      ]
     },
     "execution_count": 23,
     "metadata": {},
     "output_type": "execute_result"
    }
   ],
   "source": [
    "bikes.groupby('Date')['Rental Count'].median()"
   ]
  },
  {
   "cell_type": "code",
   "execution_count": 25,
   "metadata": {},
   "outputs": [
    {
     "data": {
      "text/plain": [
       "Seasons  Date      \n",
       "Autumn   2018-09-01    25495\n",
       "         2018-09-02    33943\n",
       "         2018-09-03    10753\n",
       "         2018-09-04    31363\n",
       "         2018-09-05    34816\n",
       "                       ...  \n",
       "Winter   2018-02-24     6286\n",
       "         2018-02-25     5780\n",
       "         2018-02-26     9133\n",
       "         2018-02-27     8923\n",
       "         2018-02-28     3663\n",
       "Name: Rental Count, Length: 365, dtype: int64"
      ]
     },
     "execution_count": 25,
     "metadata": {},
     "output_type": "execute_result"
    }
   ],
   "source": [
    "bikes.groupby(['Seasons', 'Date'])['Rental Count'].sum()"
   ]
  },
  {
   "cell_type": "code",
   "execution_count": 6,
   "metadata": {},
   "outputs": [
    {
     "data": {
      "text/plain": [
       "<AxesSubplot:>"
      ]
     },
     "execution_count": 6,
     "metadata": {},
     "output_type": "execute_result"
    },
    {
     "data": {
      "image/png": "[encoded data removed]",
      "text/plain": [
       "<Figure size 432x288 with 1 Axes>"
      ]
     },
     "metadata": {
      "needs_background": "light"
     },
     "output_type": "display_data"
    }
   ],
   "source": [
    "bikes['Temperature Category'].value_counts().plot(kind='bar')"
   ]
  },
  {
   "cell_type": "code",
   "execution_count": 7,
   "metadata": {},
   "outputs": [
    {
     "data": {
      "text/plain": [
       "Temperature Category\n",
       "Chilly      3112\n",
       "Freezing    1412\n",
       "Hot         1279\n",
       "Nice        2778\n",
       "dtype: int64"
      ]
     },
     "execution_count": 7,
     "metadata": {},
     "output_type": "execute_result"
    }
   ],
   "source": [
    "# bikes.groupby('Temperature Category').size().sort_values(ascending=False)\n",
    "bikes.groupby('Temperature Category').size()"
   ]
  },
  {
   "cell_type": "code",
   "execution_count": 33,
   "metadata": {},
   "outputs": [
    {
     "data": {
      "text/plain": [
       "Chilly      3112\n",
       "Nice        2778\n",
       "Freezing    1412\n",
       "Hot         1279\n",
       "Name: Temperature Category, dtype: int64"
      ]
     },
     "execution_count": 33,
     "metadata": {},
     "output_type": "execute_result"
    }
   ],
   "source": [
    "bikes['Temperature Category'].value_counts()"
   ]
  },
  {
   "cell_type": "code",
   "execution_count": 37,
   "metadata": {},
   "outputs": [
    {
     "data": {
      "text/plain": [
       "<AxesSubplot:xlabel='Seasons'>"
      ]
     },
     "execution_count": 37,
     "metadata": {},
     "output_type": "execute_result"
    },
    {
     "data": {
      "image/png": "[encoded data removed]",
      "text/plain": [
       "<Figure size 432x288 with 1 Axes>"
      ]
     },
     "metadata": {
      "needs_background": "light"
     },
     "output_type": "display_data"
    }
   ],
   "source": [
    "# chain syntax - \"цепочечный синтаксис\"\n",
    "bikes.groupby('Seasons')['Rental Count'].mean().sort_values().plot(kind='bar')"
   ]
  },
  {
   "cell_type": "code",
   "execution_count": 43,
   "metadata": {},
   "outputs": [
    {
     "data": {
      "text/plain": [
       "<AxesSubplot:xlabel='Seasons,Temperature Category'>"
      ]
     },
     "execution_count": 43,
     "metadata": {},
     "output_type": "execute_result"
    },
    {
     "data": {
      "image/png": "[encoded data removed]",
      "text/plain": [
       "<Figure size 432x288 with 1 Axes>"
      ]
     },
     "metadata": {
      "needs_background": "light"
     },
     "output_type": "display_data"
    }
   ],
   "source": [
    "bikes.groupby('Seasons')['Temperature Category'].value_counts().plot(kind='bar')"
   ]
  },
  {
   "cell_type": "code",
   "execution_count": 9,
   "metadata": {},
   "outputs": [
    {
     "data": {
      "text/html": [
       "<div>\n",
       "<style scoped>\n",
       "    .dataframe tbody tr th:only-of-type {\n",
       "        vertical-align: middle;\n",
       "    }\n",
       "\n",
       "    .dataframe tbody tr th {\n",
       "        vertical-align: top;\n",
       "    }\n",
       "\n",
       "    .dataframe thead th {\n",
       "        text-align: right;\n",
       "    }\n",
       "</style>\n",
       "<table border=\"1\" class=\"dataframe\">\n",
       "  <thead>\n",
       "    <tr style=\"text-align: right;\">\n",
       "      <th>Temperature Category</th>\n",
       "      <th>Chilly</th>\n",
       "      <th>Freezing</th>\n",
       "      <th>Hot</th>\n",
       "      <th>Nice</th>\n",
       "    </tr>\n",
       "    <tr>\n",
       "      <th>Seasons</th>\n",
       "      <th></th>\n",
       "      <th></th>\n",
       "      <th></th>\n",
       "      <th></th>\n",
       "    </tr>\n",
       "  </thead>\n",
       "  <tbody>\n",
       "    <tr>\n",
       "      <th>Autumn</th>\n",
       "      <td>1138.0</td>\n",
       "      <td>20.0</td>\n",
       "      <td>86.0</td>\n",
       "      <td>894.0</td>\n",
       "    </tr>\n",
       "    <tr>\n",
       "      <th>Spring</th>\n",
       "      <td>1224.0</td>\n",
       "      <td>22.0</td>\n",
       "      <td>27.0</td>\n",
       "      <td>881.0</td>\n",
       "    </tr>\n",
       "    <tr>\n",
       "      <th>Summer</th>\n",
       "      <td>NaN</td>\n",
       "      <td>NaN</td>\n",
       "      <td>1166.0</td>\n",
       "      <td>1003.0</td>\n",
       "    </tr>\n",
       "    <tr>\n",
       "      <th>Winter</th>\n",
       "      <td>750.0</td>\n",
       "      <td>1370.0</td>\n",
       "      <td>NaN</td>\n",
       "      <td>NaN</td>\n",
       "    </tr>\n",
       "  </tbody>\n",
       "</table>\n",
       "</div>"
      ],
      "text/plain": [
       "Temperature Category  Chilly  Freezing     Hot    Nice\n",
       "Seasons                                               \n",
       "Autumn                1138.0      20.0    86.0   894.0\n",
       "Spring                1224.0      22.0    27.0   881.0\n",
       "Summer                   NaN       NaN  1166.0  1003.0\n",
       "Winter                 750.0    1370.0     NaN     NaN"
      ]
     },
     "execution_count": 9,
     "metadata": {},
     "output_type": "execute_result"
    }
   ],
   "source": [
    "# pivot table\n",
    "bikes.groupby('Seasons')['Temperature Category'].value_counts().unstack()"
   ]
  },
  {
   "cell_type": "code",
   "execution_count": 47,
   "metadata": {},
   "outputs": [
    {
     "data": {
      "text/plain": [
       "<AxesSubplot:xlabel='Seasons'>"
      ]
     },
     "execution_count": 47,
     "metadata": {},
     "output_type": "execute_result"
    },
    {
     "data": {
      "image/png": "[encoded data removed]",
      "text/plain": [
       "<Figure size 432x288 with 1 Axes>"
      ]
     },
     "metadata": {
      "needs_background": "light"
     },
     "output_type": "display_data"
    }
   ],
   "source": [
    "bikes.groupby('Seasons')['Temperature Category'].value_counts().unstack().plot(kind='bar')"
   ]
  },
  {
   "cell_type": "code",
   "execution_count": 48,
   "metadata": {},
   "outputs": [
    {
     "data": {
      "text/plain": [
       "<AxesSubplot:xlabel='Seasons'>"
      ]
     },
     "execution_count": 48,
     "metadata": {},
     "output_type": "execute_result"
    },
    {
     "data": {
      "image/png": "[encoded data removed]",
      "text/plain": [
       "<Figure size 432x288 with 1 Axes>"
      ]
     },
     "metadata": {
      "needs_background": "light"
     },
     "output_type": "display_data"
    }
   ],
   "source": [
    "bikes.groupby('Seasons')['Temperature Category'].value_counts().unstack().plot(kind='bar', stacked=True)"
   ]
  },
  {
   "cell_type": "code",
   "execution_count": 49,
   "metadata": {},
   "outputs": [
    {
     "data": {
      "text/html": [
       "<div>\n",
       "<style scoped>\n",
       "    .dataframe tbody tr th:only-of-type {\n",
       "        vertical-align: middle;\n",
       "    }\n",
       "\n",
       "    .dataframe tbody tr th {\n",
       "        vertical-align: top;\n",
       "    }\n",
       "\n",
       "    .dataframe thead th {\n",
       "        text-align: right;\n",
       "    }\n",
       "</style>\n",
       "<table border=\"1\" class=\"dataframe\">\n",
       "  <thead>\n",
       "    <tr style=\"text-align: right;\">\n",
       "      <th>Temperature Category</th>\n",
       "      <th>Chilly</th>\n",
       "      <th>Freezing</th>\n",
       "      <th>Hot</th>\n",
       "      <th>Nice</th>\n",
       "    </tr>\n",
       "    <tr>\n",
       "      <th>Seasons</th>\n",
       "      <th></th>\n",
       "      <th></th>\n",
       "      <th></th>\n",
       "      <th></th>\n",
       "    </tr>\n",
       "  </thead>\n",
       "  <tbody>\n",
       "    <tr>\n",
       "      <th>Autumn</th>\n",
       "      <td>1138.0</td>\n",
       "      <td>20.0</td>\n",
       "      <td>86.0</td>\n",
       "      <td>894.0</td>\n",
       "    </tr>\n",
       "    <tr>\n",
       "      <th>Spring</th>\n",
       "      <td>1224.0</td>\n",
       "      <td>22.0</td>\n",
       "      <td>27.0</td>\n",
       "      <td>881.0</td>\n",
       "    </tr>\n",
       "    <tr>\n",
       "      <th>Summer</th>\n",
       "      <td>NaN</td>\n",
       "      <td>NaN</td>\n",
       "      <td>1166.0</td>\n",
       "      <td>1003.0</td>\n",
       "    </tr>\n",
       "    <tr>\n",
       "      <th>Winter</th>\n",
       "      <td>750.0</td>\n",
       "      <td>1370.0</td>\n",
       "      <td>NaN</td>\n",
       "      <td>NaN</td>\n",
       "    </tr>\n",
       "  </tbody>\n",
       "</table>\n",
       "</div>"
      ],
      "text/plain": [
       "Temperature Category  Chilly  Freezing     Hot    Nice\n",
       "Seasons                                               \n",
       "Autumn                1138.0      20.0    86.0   894.0\n",
       "Spring                1224.0      22.0    27.0   881.0\n",
       "Summer                   NaN       NaN  1166.0  1003.0\n",
       "Winter                 750.0    1370.0     NaN     NaN"
      ]
     },
     "execution_count": 49,
     "metadata": {},
     "output_type": "execute_result"
    }
   ],
   "source": [
    "# long table\n",
    "bikes.groupby('Seasons')['Temperature Category'].value_counts().unstack()"
   ]
  },
  {
   "cell_type": "code",
   "execution_count": 53,
   "metadata": {},
   "outputs": [
    {
     "data": {
      "text/plain": [
       "Chilly      3112\n",
       "Nice        2778\n",
       "Freezing    1412\n",
       "Hot         1279\n",
       "Name: Temperature Category, dtype: int64"
      ]
     },
     "execution_count": 53,
     "metadata": {},
     "output_type": "execute_result"
    }
   ],
   "source": [
    "bikes['Temperature Category'].value_counts()"
   ]
  },
  {
   "cell_type": "code",
   "execution_count": 55,
   "metadata": {},
   "outputs": [
    {
     "name": "stdout",
     "output_type": "stream",
     "text": [
      "<class 'pandas.core.frame.DataFrame'>\n",
      "RangeIndex: 8760 entries, 0 to 8759\n",
      "Data columns (total 14 columns):\n",
      " #   Column                Non-Null Count  Dtype         \n",
      "---  ------                --------------  -----         \n",
      " 0   Date                  8760 non-null   datetime64[ns]\n",
      " 1   Hour                  8760 non-null   int64         \n",
      " 2   Temperature           8581 non-null   float64       \n",
      " 3   Humidity              8760 non-null   int64         \n",
      " 4   Wind speed            8760 non-null   float64       \n",
      " 5   Rainfall              8760 non-null   float64       \n",
      " 6   Snowfall              8760 non-null   float64       \n",
      " 7   Seasons               8760 non-null   object        \n",
      " 8   Holiday               8760 non-null   int64         \n",
      " 9   Functioning Day       8760 non-null   bool          \n",
      " 10  Rental Count          8760 non-null   int64         \n",
      " 11  Normal Humidity       8760 non-null   int64         \n",
      " 12  Temperature Category  8581 non-null   category      \n",
      " 13  Good weather          8760 non-null   int64         \n",
      "dtypes: bool(1), category(1), datetime64[ns](1), float64(4), int64(6), object(1)\n",
      "memory usage: 838.7+ KB\n"
     ]
    }
   ],
   "source": [
    "bikes.info()"
   ]
  },
  {
   "cell_type": "code",
   "execution_count": 62,
   "metadata": {},
   "outputs": [
    {
     "data": {
      "text/plain": [
       "count    8581.000000\n",
       "mean       12.878557\n",
       "std        11.955551\n",
       "min       -17.800000\n",
       "25%         3.400000\n",
       "50%        13.700000\n",
       "75%        22.500000\n",
       "max        39.400000\n",
       "Name: Temperature, dtype: float64"
      ]
     },
     "execution_count": 62,
     "metadata": {},
     "output_type": "execute_result"
    }
   ],
   "source": [
    "bikes['Temperature'].describe()"
   ]
  },
  {
   "cell_type": "markdown",
   "metadata": {},
   "source": [
    "* mean — среднее арифметическое\n",
    "* std — standard deviation — среднеквадратичное отклонение"
   ]
  },
  {
   "cell_type": "code",
   "execution_count": 64,
   "metadata": {},
   "outputs": [
    {
     "data": {
      "text/html": [
       "<div>\n",
       "<style scoped>\n",
       "    .dataframe tbody tr th:only-of-type {\n",
       "        vertical-align: middle;\n",
       "    }\n",
       "\n",
       "    .dataframe tbody tr th {\n",
       "        vertical-align: top;\n",
       "    }\n",
       "\n",
       "    .dataframe thead th {\n",
       "        text-align: right;\n",
       "    }\n",
       "</style>\n",
       "<table border=\"1\" class=\"dataframe\">\n",
       "  <thead>\n",
       "    <tr style=\"text-align: right;\">\n",
       "      <th></th>\n",
       "      <th>Temperature</th>\n",
       "    </tr>\n",
       "  </thead>\n",
       "  <tbody>\n",
       "    <tr>\n",
       "      <th>count</th>\n",
       "      <td>8581.000000</td>\n",
       "    </tr>\n",
       "    <tr>\n",
       "      <th>mean</th>\n",
       "      <td>12.878557</td>\n",
       "    </tr>\n",
       "    <tr>\n",
       "      <th>std</th>\n",
       "      <td>11.955551</td>\n",
       "    </tr>\n",
       "    <tr>\n",
       "      <th>min</th>\n",
       "      <td>-17.800000</td>\n",
       "    </tr>\n",
       "    <tr>\n",
       "      <th>25%</th>\n",
       "      <td>3.400000</td>\n",
       "    </tr>\n",
       "    <tr>\n",
       "      <th>50%</th>\n",
       "      <td>13.700000</td>\n",
       "    </tr>\n",
       "    <tr>\n",
       "      <th>75%</th>\n",
       "      <td>22.500000</td>\n",
       "    </tr>\n",
       "    <tr>\n",
       "      <th>max</th>\n",
       "      <td>39.400000</td>\n",
       "    </tr>\n",
       "  </tbody>\n",
       "</table>\n",
       "</div>"
      ],
      "text/plain": [
       "       Temperature\n",
       "count  8581.000000\n",
       "mean     12.878557\n",
       "std      11.955551\n",
       "min     -17.800000\n",
       "25%       3.400000\n",
       "50%      13.700000\n",
       "75%      22.500000\n",
       "max      39.400000"
      ]
     },
     "execution_count": 64,
     "metadata": {},
     "output_type": "execute_result"
    }
   ],
   "source": [
    "bikes[['Temperature']].describe()"
   ]
  },
  {
   "cell_type": "code",
   "execution_count": 78,
   "metadata": {},
   "outputs": [
    {
     "data": {
      "text/plain": [
       "0    Chilly\n",
       "Name: Temperature Category, dtype: category\n",
       "Categories (4, object): ['Chilly', 'Freezing', 'Hot', 'Nice']"
      ]
     },
     "execution_count": 78,
     "metadata": {},
     "output_type": "execute_result"
    }
   ],
   "source": [
    "bikes['Temperature Category'].mode()"
   ]
  },
  {
   "cell_type": "code",
   "execution_count": 72,
   "metadata": {},
   "outputs": [
    {
     "data": {
      "text/plain": [
       "19.1"
      ]
     },
     "execution_count": 72,
     "metadata": {},
     "output_type": "execute_result"
    }
   ],
   "source": [
    "import numpy as np\n",
    "bikes['Temperature'].quantile(0.75) - bikes['Temperature'].quantile(0.25)"
   ]
  },
  {
   "cell_type": "code",
   "execution_count": 85,
   "metadata": {},
   "outputs": [],
   "source": [
    "def var_range(x):\n",
    "    return x.max() - x.min()"
   ]
  },
  {
   "cell_type": "code",
   "execution_count": 104,
   "metadata": {},
   "outputs": [],
   "source": [
    "bikes_descr = bikes.groupby('Hour')[['Temperature', 'Rental Count']].agg(func=['mean', 'median', var_range, 'sum'])"
   ]
  },
  {
   "cell_type": "code",
   "execution_count": 105,
   "metadata": {},
   "outputs": [
    {
     "data": {
      "text/html": [
       "<div>\n",
       "<style scoped>\n",
       "    .dataframe tbody tr th:only-of-type {\n",
       "        vertical-align: middle;\n",
       "    }\n",
       "\n",
       "    .dataframe tbody tr th {\n",
       "        vertical-align: top;\n",
       "    }\n",
       "\n",
       "    .dataframe thead tr th {\n",
       "        text-align: left;\n",
       "    }\n",
       "\n",
       "    .dataframe thead tr:last-of-type th {\n",
       "        text-align: right;\n",
       "    }\n",
       "</style>\n",
       "<table border=\"1\" class=\"dataframe\">\n",
       "  <thead>\n",
       "    <tr>\n",
       "      <th></th>\n",
       "      <th colspan=\"4\" halign=\"left\">Temperature</th>\n",
       "      <th colspan=\"4\" halign=\"left\">Rental Count</th>\n",
       "    </tr>\n",
       "    <tr>\n",
       "      <th></th>\n",
       "      <th>mean</th>\n",
       "      <th>median</th>\n",
       "      <th>var_range</th>\n",
       "      <th>sum</th>\n",
       "      <th>mean</th>\n",
       "      <th>median</th>\n",
       "      <th>var_range</th>\n",
       "      <th>sum</th>\n",
       "    </tr>\n",
       "    <tr>\n",
       "      <th>Hour</th>\n",
       "      <th></th>\n",
       "      <th></th>\n",
       "      <th></th>\n",
       "      <th></th>\n",
       "      <th></th>\n",
       "      <th></th>\n",
       "      <th></th>\n",
       "      <th></th>\n",
       "    </tr>\n",
       "  </thead>\n",
       "  <tbody>\n",
       "    <tr>\n",
       "      <th>0</th>\n",
       "      <td>11.253652</td>\n",
       "      <td>11.80</td>\n",
       "      <td>48.0</td>\n",
       "      <td>4006.3</td>\n",
       "      <td>558.178082</td>\n",
       "      <td>433</td>\n",
       "      <td>2059</td>\n",
       "      <td>203735</td>\n",
       "    </tr>\n",
       "    <tr>\n",
       "      <th>1</th>\n",
       "      <td>10.972145</td>\n",
       "      <td>11.50</td>\n",
       "      <td>47.8</td>\n",
       "      <td>3939.0</td>\n",
       "      <td>415.720548</td>\n",
       "      <td>329</td>\n",
       "      <td>1485</td>\n",
       "      <td>151738</td>\n",
       "    </tr>\n",
       "    <tr>\n",
       "      <th>2</th>\n",
       "      <td>10.542535</td>\n",
       "      <td>10.90</td>\n",
       "      <td>47.5</td>\n",
       "      <td>3742.6</td>\n",
       "      <td>319.767123</td>\n",
       "      <td>239</td>\n",
       "      <td>1950</td>\n",
       "      <td>116715</td>\n",
       "    </tr>\n",
       "    <tr>\n",
       "      <th>3</th>\n",
       "      <td>10.355462</td>\n",
       "      <td>10.70</td>\n",
       "      <td>47.2</td>\n",
       "      <td>3696.9</td>\n",
       "      <td>201.010959</td>\n",
       "      <td>165</td>\n",
       "      <td>781</td>\n",
       "      <td>73369</td>\n",
       "    </tr>\n",
       "    <tr>\n",
       "      <th>4</th>\n",
       "      <td>10.069859</td>\n",
       "      <td>10.40</td>\n",
       "      <td>47.5</td>\n",
       "      <td>3574.8</td>\n",
       "      <td>122.838356</td>\n",
       "      <td>94</td>\n",
       "      <td>608</td>\n",
       "      <td>44836</td>\n",
       "    </tr>\n",
       "    <tr>\n",
       "      <th>5</th>\n",
       "      <td>9.849580</td>\n",
       "      <td>10.00</td>\n",
       "      <td>47.6</td>\n",
       "      <td>3516.3</td>\n",
       "      <td>135.863014</td>\n",
       "      <td>107</td>\n",
       "      <td>561</td>\n",
       "      <td>49590</td>\n",
       "    </tr>\n",
       "    <tr>\n",
       "      <th>6</th>\n",
       "      <td>9.763944</td>\n",
       "      <td>10.00</td>\n",
       "      <td>47.9</td>\n",
       "      <td>3466.2</td>\n",
       "      <td>283.654795</td>\n",
       "      <td>193</td>\n",
       "      <td>1577</td>\n",
       "      <td>103534</td>\n",
       "    </tr>\n",
       "    <tr>\n",
       "      <th>7</th>\n",
       "      <td>9.454062</td>\n",
       "      <td>9.60</td>\n",
       "      <td>48.0</td>\n",
       "      <td>3375.1</td>\n",
       "      <td>612.646575</td>\n",
       "      <td>410</td>\n",
       "      <td>2880</td>\n",
       "      <td>223616</td>\n",
       "    </tr>\n",
       "    <tr>\n",
       "      <th>8</th>\n",
       "      <td>9.988515</td>\n",
       "      <td>10.40</td>\n",
       "      <td>49.6</td>\n",
       "      <td>3565.9</td>\n",
       "      <td>979.838356</td>\n",
       "      <td>762</td>\n",
       "      <td>4438</td>\n",
       "      <td>357641</td>\n",
       "    </tr>\n",
       "    <tr>\n",
       "      <th>9</th>\n",
       "      <td>11.459669</td>\n",
       "      <td>12.10</td>\n",
       "      <td>50.5</td>\n",
       "      <td>4148.4</td>\n",
       "      <td>642.136986</td>\n",
       "      <td>519</td>\n",
       "      <td>2318</td>\n",
       "      <td>234380</td>\n",
       "    </tr>\n",
       "    <tr>\n",
       "      <th>10</th>\n",
       "      <td>12.766947</td>\n",
       "      <td>14.00</td>\n",
       "      <td>50.9</td>\n",
       "      <td>4557.8</td>\n",
       "      <td>519.123288</td>\n",
       "      <td>414</td>\n",
       "      <td>1740</td>\n",
       "      <td>189480</td>\n",
       "    </tr>\n",
       "    <tr>\n",
       "      <th>11</th>\n",
       "      <td>14.285434</td>\n",
       "      <td>16.40</td>\n",
       "      <td>51.4</td>\n",
       "      <td>5099.9</td>\n",
       "      <td>585.336986</td>\n",
       "      <td>485</td>\n",
       "      <td>2041</td>\n",
       "      <td>213648</td>\n",
       "    </tr>\n",
       "    <tr>\n",
       "      <th>12</th>\n",
       "      <td>15.417175</td>\n",
       "      <td>17.40</td>\n",
       "      <td>51.2</td>\n",
       "      <td>5565.6</td>\n",
       "      <td>710.534247</td>\n",
       "      <td>572</td>\n",
       "      <td>2239</td>\n",
       "      <td>259345</td>\n",
       "    </tr>\n",
       "    <tr>\n",
       "      <th>13</th>\n",
       "      <td>16.184765</td>\n",
       "      <td>18.30</td>\n",
       "      <td>51.2</td>\n",
       "      <td>5842.7</td>\n",
       "      <td>700.706849</td>\n",
       "      <td>586</td>\n",
       "      <td>2805</td>\n",
       "      <td>255758</td>\n",
       "    </tr>\n",
       "    <tr>\n",
       "      <th>14</th>\n",
       "      <td>16.862360</td>\n",
       "      <td>19.10</td>\n",
       "      <td>50.8</td>\n",
       "      <td>6003.0</td>\n",
       "      <td>747.147945</td>\n",
       "      <td>567</td>\n",
       "      <td>3163</td>\n",
       "      <td>272709</td>\n",
       "    </tr>\n",
       "    <tr>\n",
       "      <th>15</th>\n",
       "      <td>17.084358</td>\n",
       "      <td>19.20</td>\n",
       "      <td>50.7</td>\n",
       "      <td>6116.2</td>\n",
       "      <td>796.084932</td>\n",
       "      <td>678</td>\n",
       "      <td>3194</td>\n",
       "      <td>290571</td>\n",
       "    </tr>\n",
       "    <tr>\n",
       "      <th>16</th>\n",
       "      <td>16.821652</td>\n",
       "      <td>18.80</td>\n",
       "      <td>50.6</td>\n",
       "      <td>5904.4</td>\n",
       "      <td>938.032877</td>\n",
       "      <td>804</td>\n",
       "      <td>3671</td>\n",
       "      <td>342382</td>\n",
       "    </tr>\n",
       "    <tr>\n",
       "      <th>17</th>\n",
       "      <td>16.325281</td>\n",
       "      <td>18.40</td>\n",
       "      <td>50.8</td>\n",
       "      <td>5811.8</td>\n",
       "      <td>1128.873973</td>\n",
       "      <td>899</td>\n",
       "      <td>4450</td>\n",
       "      <td>412039</td>\n",
       "    </tr>\n",
       "    <tr>\n",
       "      <th>18</th>\n",
       "      <td>15.255956</td>\n",
       "      <td>16.80</td>\n",
       "      <td>50.8</td>\n",
       "      <td>5507.4</td>\n",
       "      <td>1518.983562</td>\n",
       "      <td>1154</td>\n",
       "      <td>6012</td>\n",
       "      <td>554429</td>\n",
       "    </tr>\n",
       "    <tr>\n",
       "      <th>19</th>\n",
       "      <td>14.254062</td>\n",
       "      <td>15.20</td>\n",
       "      <td>49.9</td>\n",
       "      <td>5088.7</td>\n",
       "      <td>1168.328767</td>\n",
       "      <td>845</td>\n",
       "      <td>5418</td>\n",
       "      <td>426440</td>\n",
       "    </tr>\n",
       "    <tr>\n",
       "      <th>20</th>\n",
       "      <td>13.394460</td>\n",
       "      <td>14.10</td>\n",
       "      <td>48.8</td>\n",
       "      <td>4835.4</td>\n",
       "      <td>1069.698630</td>\n",
       "      <td>721</td>\n",
       "      <td>3857</td>\n",
       "      <td>390440</td>\n",
       "    </tr>\n",
       "    <tr>\n",
       "      <th>21</th>\n",
       "      <td>12.680165</td>\n",
       "      <td>13.40</td>\n",
       "      <td>48.0</td>\n",
       "      <td>4602.9</td>\n",
       "      <td>997.942466</td>\n",
       "      <td>688</td>\n",
       "      <td>4373</td>\n",
       "      <td>364249</td>\n",
       "    </tr>\n",
       "    <tr>\n",
       "      <th>22</th>\n",
       "      <td>12.281461</td>\n",
       "      <td>12.95</td>\n",
       "      <td>48.1</td>\n",
       "      <td>4372.2</td>\n",
       "      <td>893.621918</td>\n",
       "      <td>649</td>\n",
       "      <td>3432</td>\n",
       "      <td>326172</td>\n",
       "    </tr>\n",
       "    <tr>\n",
       "      <th>23</th>\n",
       "      <td>11.717416</td>\n",
       "      <td>12.25</td>\n",
       "      <td>48.1</td>\n",
       "      <td>4171.4</td>\n",
       "      <td>671.898630</td>\n",
       "      <td>516</td>\n",
       "      <td>2603</td>\n",
       "      <td>245243</td>\n",
       "    </tr>\n",
       "  </tbody>\n",
       "</table>\n",
       "</div>"
      ],
      "text/plain": [
       "     Temperature                          Rental Count                   \\\n",
       "            mean median var_range     sum         mean median var_range   \n",
       "Hour                                                                      \n",
       "0      11.253652  11.80      48.0  4006.3   558.178082    433      2059   \n",
       "1      10.972145  11.50      47.8  3939.0   415.720548    329      1485   \n",
       "2      10.542535  10.90      47.5  3742.6   319.767123    239      1950   \n",
       "3      10.355462  10.70      47.2  3696.9   201.010959    165       781   \n",
       "4      10.069859  10.40      47.5  3574.8   122.838356     94       608   \n",
       "5       9.849580  10.00      47.6  3516.3   135.863014    107       561   \n",
       "6       9.763944  10.00      47.9  3466.2   283.654795    193      1577   \n",
       "7       9.454062   9.60      48.0  3375.1   612.646575    410      2880   \n",
       "8       9.988515  10.40      49.6  3565.9   979.838356    762      4438   \n",
       "9      11.459669  12.10      50.5  4148.4   642.136986    519      2318   \n",
       "10     12.766947  14.00      50.9  4557.8   519.123288    414      1740   \n",
       "11     14.285434  16.40      51.4  5099.9   585.336986    485      2041   \n",
       "12     15.417175  17.40      51.2  5565.6   710.534247    572      2239   \n",
       "13     16.184765  18.30      51.2  5842.7   700.706849    586      2805   \n",
       "14     16.862360  19.10      50.8  6003.0   747.147945    567      3163   \n",
       "15     17.084358  19.20      50.7  6116.2   796.084932    678      3194   \n",
       "16     16.821652  18.80      50.6  5904.4   938.032877    804      3671   \n",
       "17     16.325281  18.40      50.8  5811.8  1128.873973    899      4450   \n",
       "18     15.255956  16.80      50.8  5507.4  1518.983562   1154      6012   \n",
       "19     14.254062  15.20      49.9  5088.7  1168.328767    845      5418   \n",
       "20     13.394460  14.10      48.8  4835.4  1069.698630    721      3857   \n",
       "21     12.680165  13.40      48.0  4602.9   997.942466    688      4373   \n",
       "22     12.281461  12.95      48.1  4372.2   893.621918    649      3432   \n",
       "23     11.717416  12.25      48.1  4171.4   671.898630    516      2603   \n",
       "\n",
       "              \n",
       "         sum  \n",
       "Hour          \n",
       "0     203735  \n",
       "1     151738  \n",
       "2     116715  \n",
       "3      73369  \n",
       "4      44836  \n",
       "5      49590  \n",
       "6     103534  \n",
       "7     223616  \n",
       "8     357641  \n",
       "9     234380  \n",
       "10    189480  \n",
       "11    213648  \n",
       "12    259345  \n",
       "13    255758  \n",
       "14    272709  \n",
       "15    290571  \n",
       "16    342382  \n",
       "17    412039  \n",
       "18    554429  \n",
       "19    426440  \n",
       "20    390440  \n",
       "21    364249  \n",
       "22    326172  \n",
       "23    245243  "
      ]
     },
     "execution_count": 105,
     "metadata": {},
     "output_type": "execute_result"
    }
   ],
   "source": [
    "bikes_descr"
   ]
  },
  {
   "cell_type": "code",
   "execution_count": 100,
   "metadata": {},
   "outputs": [
    {
     "data": {
      "text/html": [
       "<div>\n",
       "<style scoped>\n",
       "    .dataframe tbody tr th:only-of-type {\n",
       "        vertical-align: middle;\n",
       "    }\n",
       "\n",
       "    .dataframe tbody tr th {\n",
       "        vertical-align: top;\n",
       "    }\n",
       "\n",
       "    .dataframe thead tr th {\n",
       "        text-align: left;\n",
       "    }\n",
       "\n",
       "    .dataframe thead tr:last-of-type th {\n",
       "        text-align: right;\n",
       "    }\n",
       "</style>\n",
       "<table border=\"1\" class=\"dataframe\">\n",
       "  <thead>\n",
       "    <tr>\n",
       "      <th></th>\n",
       "      <th colspan=\"2\" halign=\"left\">std</th>\n",
       "      <th colspan=\"2\" halign=\"left\">median</th>\n",
       "      <th colspan=\"2\" halign=\"left\">var_range</th>\n",
       "    </tr>\n",
       "    <tr>\n",
       "      <th></th>\n",
       "      <th>Rental Count</th>\n",
       "      <th>Temperature</th>\n",
       "      <th>Rental Count</th>\n",
       "      <th>Temperature</th>\n",
       "      <th>Rental Count</th>\n",
       "      <th>Temperature</th>\n",
       "    </tr>\n",
       "    <tr>\n",
       "      <th>Hour</th>\n",
       "      <th></th>\n",
       "      <th></th>\n",
       "      <th></th>\n",
       "      <th></th>\n",
       "      <th></th>\n",
       "      <th></th>\n",
       "    </tr>\n",
       "  </thead>\n",
       "  <tbody>\n",
       "    <tr>\n",
       "      <th>0</th>\n",
       "      <td>455.016192</td>\n",
       "      <td>11.437803</td>\n",
       "      <td>433</td>\n",
       "      <td>11.80</td>\n",
       "      <td>2059</td>\n",
       "      <td>48.0</td>\n",
       "    </tr>\n",
       "    <tr>\n",
       "      <th>1</th>\n",
       "      <td>338.058896</td>\n",
       "      <td>11.391632</td>\n",
       "      <td>329</td>\n",
       "      <td>11.50</td>\n",
       "      <td>1485</td>\n",
       "      <td>47.8</td>\n",
       "    </tr>\n",
       "    <tr>\n",
       "      <th>2</th>\n",
       "      <td>268.797389</td>\n",
       "      <td>11.411300</td>\n",
       "      <td>239</td>\n",
       "      <td>10.90</td>\n",
       "      <td>1950</td>\n",
       "      <td>47.5</td>\n",
       "    </tr>\n",
       "    <tr>\n",
       "      <th>3</th>\n",
       "      <td>162.601701</td>\n",
       "      <td>11.306762</td>\n",
       "      <td>165</td>\n",
       "      <td>10.70</td>\n",
       "      <td>781</td>\n",
       "      <td>47.2</td>\n",
       "    </tr>\n",
       "    <tr>\n",
       "      <th>4</th>\n",
       "      <td>106.375778</td>\n",
       "      <td>11.284178</td>\n",
       "      <td>94</td>\n",
       "      <td>10.40</td>\n",
       "      <td>608</td>\n",
       "      <td>47.5</td>\n",
       "    </tr>\n",
       "    <tr>\n",
       "      <th>5</th>\n",
       "      <td>113.191916</td>\n",
       "      <td>11.310231</td>\n",
       "      <td>107</td>\n",
       "      <td>10.00</td>\n",
       "      <td>561</td>\n",
       "      <td>47.6</td>\n",
       "    </tr>\n",
       "    <tr>\n",
       "      <th>6</th>\n",
       "      <td>273.636723</td>\n",
       "      <td>11.323973</td>\n",
       "      <td>193</td>\n",
       "      <td>10.00</td>\n",
       "      <td>1577</td>\n",
       "      <td>47.9</td>\n",
       "    </tr>\n",
       "    <tr>\n",
       "      <th>7</th>\n",
       "      <td>582.515881</td>\n",
       "      <td>11.487845</td>\n",
       "      <td>410</td>\n",
       "      <td>9.60</td>\n",
       "      <td>2880</td>\n",
       "      <td>48.0</td>\n",
       "    </tr>\n",
       "    <tr>\n",
       "      <th>8</th>\n",
       "      <td>871.005983</td>\n",
       "      <td>11.931827</td>\n",
       "      <td>762</td>\n",
       "      <td>10.40</td>\n",
       "      <td>4438</td>\n",
       "      <td>49.6</td>\n",
       "    </tr>\n",
       "    <tr>\n",
       "      <th>9</th>\n",
       "      <td>500.018849</td>\n",
       "      <td>12.199029</td>\n",
       "      <td>519</td>\n",
       "      <td>12.10</td>\n",
       "      <td>2318</td>\n",
       "      <td>50.5</td>\n",
       "    </tr>\n",
       "    <tr>\n",
       "      <th>10</th>\n",
       "      <td>415.278139</td>\n",
       "      <td>12.148809</td>\n",
       "      <td>414</td>\n",
       "      <td>14.00</td>\n",
       "      <td>1740</td>\n",
       "      <td>50.9</td>\n",
       "    </tr>\n",
       "    <tr>\n",
       "      <th>11</th>\n",
       "      <td>452.773454</td>\n",
       "      <td>12.038602</td>\n",
       "      <td>485</td>\n",
       "      <td>16.40</td>\n",
       "      <td>2041</td>\n",
       "      <td>51.4</td>\n",
       "    </tr>\n",
       "    <tr>\n",
       "      <th>12</th>\n",
       "      <td>538.838247</td>\n",
       "      <td>11.929531</td>\n",
       "      <td>572</td>\n",
       "      <td>17.40</td>\n",
       "      <td>2239</td>\n",
       "      <td>51.2</td>\n",
       "    </tr>\n",
       "    <tr>\n",
       "      <th>13</th>\n",
       "      <td>539.252891</td>\n",
       "      <td>11.833386</td>\n",
       "      <td>586</td>\n",
       "      <td>18.30</td>\n",
       "      <td>2805</td>\n",
       "      <td>51.2</td>\n",
       "    </tr>\n",
       "    <tr>\n",
       "      <th>14</th>\n",
       "      <td>613.267340</td>\n",
       "      <td>11.825084</td>\n",
       "      <td>567</td>\n",
       "      <td>19.10</td>\n",
       "      <td>3163</td>\n",
       "      <td>50.8</td>\n",
       "    </tr>\n",
       "    <tr>\n",
       "      <th>15</th>\n",
       "      <td>631.989742</td>\n",
       "      <td>11.872539</td>\n",
       "      <td>678</td>\n",
       "      <td>19.20</td>\n",
       "      <td>3194</td>\n",
       "      <td>50.7</td>\n",
       "    </tr>\n",
       "    <tr>\n",
       "      <th>16</th>\n",
       "      <td>744.642450</td>\n",
       "      <td>11.798065</td>\n",
       "      <td>804</td>\n",
       "      <td>18.80</td>\n",
       "      <td>3671</td>\n",
       "      <td>50.6</td>\n",
       "    </tr>\n",
       "    <tr>\n",
       "      <th>17</th>\n",
       "      <td>935.173622</td>\n",
       "      <td>12.080028</td>\n",
       "      <td>899</td>\n",
       "      <td>18.40</td>\n",
       "      <td>4450</td>\n",
       "      <td>50.8</td>\n",
       "    </tr>\n",
       "    <tr>\n",
       "      <th>18</th>\n",
       "      <td>1286.770715</td>\n",
       "      <td>12.154047</td>\n",
       "      <td>1154</td>\n",
       "      <td>16.80</td>\n",
       "      <td>6012</td>\n",
       "      <td>50.8</td>\n",
       "    </tr>\n",
       "    <tr>\n",
       "      <th>19</th>\n",
       "      <td>1088.371072</td>\n",
       "      <td>11.847401</td>\n",
       "      <td>845</td>\n",
       "      <td>15.20</td>\n",
       "      <td>5418</td>\n",
       "      <td>49.9</td>\n",
       "    </tr>\n",
       "    <tr>\n",
       "      <th>20</th>\n",
       "      <td>995.999725</td>\n",
       "      <td>11.656540</td>\n",
       "      <td>721</td>\n",
       "      <td>14.10</td>\n",
       "      <td>3857</td>\n",
       "      <td>48.8</td>\n",
       "    </tr>\n",
       "    <tr>\n",
       "      <th>21</th>\n",
       "      <td>916.900635</td>\n",
       "      <td>11.480006</td>\n",
       "      <td>688</td>\n",
       "      <td>13.40</td>\n",
       "      <td>4373</td>\n",
       "      <td>48.0</td>\n",
       "    </tr>\n",
       "    <tr>\n",
       "      <th>22</th>\n",
       "      <td>787.161188</td>\n",
       "      <td>11.480268</td>\n",
       "      <td>649</td>\n",
       "      <td>12.95</td>\n",
       "      <td>3432</td>\n",
       "      <td>48.1</td>\n",
       "    </tr>\n",
       "    <tr>\n",
       "      <th>23</th>\n",
       "      <td>581.424225</td>\n",
       "      <td>11.345552</td>\n",
       "      <td>516</td>\n",
       "      <td>12.25</td>\n",
       "      <td>2603</td>\n",
       "      <td>48.1</td>\n",
       "    </tr>\n",
       "  </tbody>\n",
       "</table>\n",
       "</div>"
      ],
      "text/plain": [
       "              std                   median                var_range  \\\n",
       "     Rental Count Temperature Rental Count Temperature Rental Count   \n",
       "Hour                                                                  \n",
       "0      455.016192   11.437803          433       11.80         2059   \n",
       "1      338.058896   11.391632          329       11.50         1485   \n",
       "2      268.797389   11.411300          239       10.90         1950   \n",
       "3      162.601701   11.306762          165       10.70          781   \n",
       "4      106.375778   11.284178           94       10.40          608   \n",
       "5      113.191916   11.310231          107       10.00          561   \n",
       "6      273.636723   11.323973          193       10.00         1577   \n",
       "7      582.515881   11.487845          410        9.60         2880   \n",
       "8      871.005983   11.931827          762       10.40         4438   \n",
       "9      500.018849   12.199029          519       12.10         2318   \n",
       "10     415.278139   12.148809          414       14.00         1740   \n",
       "11     452.773454   12.038602          485       16.40         2041   \n",
       "12     538.838247   11.929531          572       17.40         2239   \n",
       "13     539.252891   11.833386          586       18.30         2805   \n",
       "14     613.267340   11.825084          567       19.10         3163   \n",
       "15     631.989742   11.872539          678       19.20         3194   \n",
       "16     744.642450   11.798065          804       18.80         3671   \n",
       "17     935.173622   12.080028          899       18.40         4450   \n",
       "18    1286.770715   12.154047         1154       16.80         6012   \n",
       "19    1088.371072   11.847401          845       15.20         5418   \n",
       "20     995.999725   11.656540          721       14.10         3857   \n",
       "21     916.900635   11.480006          688       13.40         4373   \n",
       "22     787.161188   11.480268          649       12.95         3432   \n",
       "23     581.424225   11.345552          516       12.25         2603   \n",
       "\n",
       "                  \n",
       "     Temperature  \n",
       "Hour              \n",
       "0           48.0  \n",
       "1           47.8  \n",
       "2           47.5  \n",
       "3           47.2  \n",
       "4           47.5  \n",
       "5           47.6  \n",
       "6           47.9  \n",
       "7           48.0  \n",
       "8           49.6  \n",
       "9           50.5  \n",
       "10          50.9  \n",
       "11          51.4  \n",
       "12          51.2  \n",
       "13          51.2  \n",
       "14          50.8  \n",
       "15          50.7  \n",
       "16          50.6  \n",
       "17          50.8  \n",
       "18          50.8  \n",
       "19          49.9  \n",
       "20          48.8  \n",
       "21          48.0  \n",
       "22          48.1  \n",
       "23          48.1  "
      ]
     },
     "execution_count": 100,
     "metadata": {},
     "output_type": "execute_result"
    }
   ],
   "source": [
    "bikes.pivot_table(index = 'Hour',\n",
    "                  values = ['Rental Count', 'Temperature'],\n",
    "                  aggfunc = ['std', 'median', var_range])"
   ]
  },
  {
   "cell_type": "code",
   "execution_count": 117,
   "metadata": {},
   "outputs": [],
   "source": [
    "ts = bikes['Rental Count'].mean() + bikes['Rental Count'].std() * 2"
   ]
  },
  {
   "cell_type": "code",
   "execution_count": 118,
   "metadata": {},
   "outputs": [
    {
     "data": {
      "text/plain": [
       "18    100\n",
       "19     66\n",
       "17     54\n",
       "20     52\n",
       "21     44\n",
       "8      42\n",
       "16     29\n",
       "22     24\n",
       "15     11\n",
       "14     10\n",
       "13      8\n",
       "23      5\n",
       "7       4\n",
       "12      2\n",
       "9       1\n",
       "Name: Hour, dtype: int64"
      ]
     },
     "execution_count": 118,
     "metadata": {},
     "output_type": "execute_result"
    }
   ],
   "source": [
    "bikes[bikes['Rental Count'] >= ts]['Hour'].value_counts()"
   ]
  },
  {
   "cell_type": "code",
   "execution_count": 115,
   "metadata": {},
   "outputs": [
    {
     "data": {
      "text/plain": [
       "-1552.8557617222968"
      ]
     },
     "execution_count": 115,
     "metadata": {},
     "output_type": "execute_result"
    }
   ],
   "source": [
    "bikes['Rental Count'].mean() - bikes['Rental Count'].std() * 3"
   ]
  },
  {
   "cell_type": "code",
   "execution_count": 116,
   "metadata": {},
   "outputs": [
    {
     "data": {
      "text/plain": [
       "<AxesSubplot:>"
      ]
     },
     "execution_count": 116,
     "metadata": {},
     "output_type": "execute_result"
    },
    {
     "data": {
      "image/png": "[encoded data removed]",
      "text/plain": [
       "<Figure size 432x288 with 1 Axes>"
      ]
     },
     "metadata": {
      "needs_background": "light"
     },
     "output_type": "display_data"
    }
   ],
   "source": [
    "bikes['Rental Count'].hist()"
   ]
  },
  {
   "cell_type": "code",
   "execution_count": 119,
   "metadata": {},
   "outputs": [
    {
     "name": "stdout",
     "output_type": "stream",
     "text": [
      "<class 'pandas.core.frame.DataFrame'>\n",
      "RangeIndex: 8760 entries, 0 to 8759\n",
      "Data columns (total 14 columns):\n",
      " #   Column                Non-Null Count  Dtype         \n",
      "---  ------                --------------  -----         \n",
      " 0   Date                  8760 non-null   datetime64[ns]\n",
      " 1   Hour                  8760 non-null   int64         \n",
      " 2   Temperature           8581 non-null   float64       \n",
      " 3   Humidity              8760 non-null   int64         \n",
      " 4   Wind speed            8760 non-null   float64       \n",
      " 5   Rainfall              8760 non-null   float64       \n",
      " 6   Snowfall              8760 non-null   float64       \n",
      " 7   Seasons               8760 non-null   object        \n",
      " 8   Holiday               8760 non-null   int64         \n",
      " 9   Functioning Day       8760 non-null   bool          \n",
      " 10  Rental Count          8760 non-null   int64         \n",
      " 11  Normal Humidity       8760 non-null   int64         \n",
      " 12  Temperature Category  8581 non-null   category      \n",
      " 13  Good weather          8760 non-null   int64         \n",
      "dtypes: bool(1), category(1), datetime64[ns](1), float64(4), int64(6), object(1)\n",
      "memory usage: 838.7+ KB\n"
     ]
    }
   ],
   "source": [
    "bikes.info()"
   ]
  },
  {
   "cell_type": "code",
   "execution_count": 120,
   "metadata": {},
   "outputs": [
    {
     "data": {
      "text/plain": [
       "Seasons\n",
       "Autumn    14.138821\n",
       "Spring    13.038533\n",
       "Summer    26.574827\n",
       "Winter    -2.567783\n",
       "Name: Temperature, dtype: float64"
      ]
     },
     "execution_count": 120,
     "metadata": {},
     "output_type": "execute_result"
    }
   ],
   "source": [
    "# imputation, импутация данных, заполнение пропущенных значений\n",
    "bikes.groupby('Seasons')['Temperature'].mean()"
   ]
  },
  {
   "cell_type": "code",
   "execution_count": 121,
   "metadata": {},
   "outputs": [
    {
     "data": {
      "text/html": [
       "<div>\n",
       "<style scoped>\n",
       "    .dataframe tbody tr th:only-of-type {\n",
       "        vertical-align: middle;\n",
       "    }\n",
       "\n",
       "    .dataframe tbody tr th {\n",
       "        vertical-align: top;\n",
       "    }\n",
       "\n",
       "    .dataframe thead th {\n",
       "        text-align: right;\n",
       "    }\n",
       "</style>\n",
       "<table border=\"1\" class=\"dataframe\">\n",
       "  <thead>\n",
       "    <tr style=\"text-align: right;\">\n",
       "      <th></th>\n",
       "      <th>Date</th>\n",
       "      <th>Hour</th>\n",
       "      <th>Temperature</th>\n",
       "      <th>Humidity</th>\n",
       "      <th>Wind speed</th>\n",
       "      <th>Rainfall</th>\n",
       "      <th>Snowfall</th>\n",
       "      <th>Seasons</th>\n",
       "      <th>Holiday</th>\n",
       "      <th>Functioning Day</th>\n",
       "      <th>Rental Count</th>\n",
       "      <th>Normal Humidity</th>\n",
       "      <th>Temperature Category</th>\n",
       "      <th>Good weather</th>\n",
       "    </tr>\n",
       "  </thead>\n",
       "  <tbody>\n",
       "    <tr>\n",
       "      <th>39</th>\n",
       "      <td>2017-12-02</td>\n",
       "      <td>15</td>\n",
       "      <td>NaN</td>\n",
       "      <td>41</td>\n",
       "      <td>2.3</td>\n",
       "      <td>0.0</td>\n",
       "      <td>0.0</td>\n",
       "      <td>Winter</td>\n",
       "      <td>0</td>\n",
       "      <td>True</td>\n",
       "      <td>688</td>\n",
       "      <td>1</td>\n",
       "      <td>NaN</td>\n",
       "      <td>0</td>\n",
       "    </tr>\n",
       "    <tr>\n",
       "      <th>50</th>\n",
       "      <td>2017-12-03</td>\n",
       "      <td>2</td>\n",
       "      <td>NaN</td>\n",
       "      <td>79</td>\n",
       "      <td>1.4</td>\n",
       "      <td>0.0</td>\n",
       "      <td>0.0</td>\n",
       "      <td>Winter</td>\n",
       "      <td>0</td>\n",
       "      <td>True</td>\n",
       "      <td>262</td>\n",
       "      <td>0</td>\n",
       "      <td>NaN</td>\n",
       "      <td>0</td>\n",
       "    </tr>\n",
       "    <tr>\n",
       "      <th>64</th>\n",
       "      <td>2017-12-03</td>\n",
       "      <td>16</td>\n",
       "      <td>NaN</td>\n",
       "      <td>77</td>\n",
       "      <td>1.6</td>\n",
       "      <td>0.0</td>\n",
       "      <td>0.0</td>\n",
       "      <td>Winter</td>\n",
       "      <td>0</td>\n",
       "      <td>True</td>\n",
       "      <td>577</td>\n",
       "      <td>0</td>\n",
       "      <td>NaN</td>\n",
       "      <td>0</td>\n",
       "    </tr>\n",
       "    <tr>\n",
       "      <th>105</th>\n",
       "      <td>2017-12-05</td>\n",
       "      <td>9</td>\n",
       "      <td>NaN</td>\n",
       "      <td>31</td>\n",
       "      <td>1.3</td>\n",
       "      <td>0.0</td>\n",
       "      <td>0.0</td>\n",
       "      <td>Winter</td>\n",
       "      <td>0</td>\n",
       "      <td>True</td>\n",
       "      <td>313</td>\n",
       "      <td>0</td>\n",
       "      <td>NaN</td>\n",
       "      <td>0</td>\n",
       "    </tr>\n",
       "    <tr>\n",
       "      <th>151</th>\n",
       "      <td>2017-12-07</td>\n",
       "      <td>7</td>\n",
       "      <td>NaN</td>\n",
       "      <td>93</td>\n",
       "      <td>0.5</td>\n",
       "      <td>0.0</td>\n",
       "      <td>0.9</td>\n",
       "      <td>Winter</td>\n",
       "      <td>0</td>\n",
       "      <td>True</td>\n",
       "      <td>269</td>\n",
       "      <td>0</td>\n",
       "      <td>NaN</td>\n",
       "      <td>0</td>\n",
       "    </tr>\n",
       "    <tr>\n",
       "      <th>...</th>\n",
       "      <td>...</td>\n",
       "      <td>...</td>\n",
       "      <td>...</td>\n",
       "      <td>...</td>\n",
       "      <td>...</td>\n",
       "      <td>...</td>\n",
       "      <td>...</td>\n",
       "      <td>...</td>\n",
       "      <td>...</td>\n",
       "      <td>...</td>\n",
       "      <td>...</td>\n",
       "      <td>...</td>\n",
       "      <td>...</td>\n",
       "      <td>...</td>\n",
       "    </tr>\n",
       "    <tr>\n",
       "      <th>8669</th>\n",
       "      <td>2018-11-27</td>\n",
       "      <td>5</td>\n",
       "      <td>NaN</td>\n",
       "      <td>84</td>\n",
       "      <td>0.6</td>\n",
       "      <td>0.0</td>\n",
       "      <td>0.0</td>\n",
       "      <td>Autumn</td>\n",
       "      <td>0</td>\n",
       "      <td>True</td>\n",
       "      <td>176</td>\n",
       "      <td>0</td>\n",
       "      <td>NaN</td>\n",
       "      <td>0</td>\n",
       "    </tr>\n",
       "    <tr>\n",
       "      <th>8679</th>\n",
       "      <td>2018-11-27</td>\n",
       "      <td>15</td>\n",
       "      <td>NaN</td>\n",
       "      <td>70</td>\n",
       "      <td>2.1</td>\n",
       "      <td>0.0</td>\n",
       "      <td>0.0</td>\n",
       "      <td>Autumn</td>\n",
       "      <td>0</td>\n",
       "      <td>True</td>\n",
       "      <td>670</td>\n",
       "      <td>0</td>\n",
       "      <td>NaN</td>\n",
       "      <td>0</td>\n",
       "    </tr>\n",
       "    <tr>\n",
       "      <th>8710</th>\n",
       "      <td>2018-11-28</td>\n",
       "      <td>22</td>\n",
       "      <td>NaN</td>\n",
       "      <td>34</td>\n",
       "      <td>1.3</td>\n",
       "      <td>0.0</td>\n",
       "      <td>0.0</td>\n",
       "      <td>Autumn</td>\n",
       "      <td>0</td>\n",
       "      <td>True</td>\n",
       "      <td>1034</td>\n",
       "      <td>0</td>\n",
       "      <td>NaN</td>\n",
       "      <td>0</td>\n",
       "    </tr>\n",
       "    <tr>\n",
       "      <th>8717</th>\n",
       "      <td>2018-11-29</td>\n",
       "      <td>5</td>\n",
       "      <td>NaN</td>\n",
       "      <td>34</td>\n",
       "      <td>0.9</td>\n",
       "      <td>0.0</td>\n",
       "      <td>0.0</td>\n",
       "      <td>Autumn</td>\n",
       "      <td>0</td>\n",
       "      <td>True</td>\n",
       "      <td>30</td>\n",
       "      <td>0</td>\n",
       "      <td>NaN</td>\n",
       "      <td>0</td>\n",
       "    </tr>\n",
       "    <tr>\n",
       "      <th>8742</th>\n",
       "      <td>2018-11-30</td>\n",
       "      <td>6</td>\n",
       "      <td>NaN</td>\n",
       "      <td>68</td>\n",
       "      <td>0.8</td>\n",
       "      <td>0.0</td>\n",
       "      <td>0.0</td>\n",
       "      <td>Autumn</td>\n",
       "      <td>0</td>\n",
       "      <td>True</td>\n",
       "      <td>166</td>\n",
       "      <td>0</td>\n",
       "      <td>NaN</td>\n",
       "      <td>0</td>\n",
       "    </tr>\n",
       "  </tbody>\n",
       "</table>\n",
       "<p>179 rows × 14 columns</p>\n",
       "</div>"
      ],
      "text/plain": [
       "           Date  Hour  Temperature  Humidity  Wind speed  Rainfall  Snowfall  \\\n",
       "39   2017-12-02    15          NaN        41         2.3       0.0       0.0   \n",
       "50   2017-12-03     2          NaN        79         1.4       0.0       0.0   \n",
       "64   2017-12-03    16          NaN        77         1.6       0.0       0.0   \n",
       "105  2017-12-05     9          NaN        31         1.3       0.0       0.0   \n",
       "151  2017-12-07     7          NaN        93         0.5       0.0       0.9   \n",
       "...         ...   ...          ...       ...         ...       ...       ...   \n",
       "8669 2018-11-27     5          NaN        84         0.6       0.0       0.0   \n",
       "8679 2018-11-27    15          NaN        70         2.1       0.0       0.0   \n",
       "8710 2018-11-28    22          NaN        34         1.3       0.0       0.0   \n",
       "8717 2018-11-29     5          NaN        34         0.9       0.0       0.0   \n",
       "8742 2018-11-30     6          NaN        68         0.8       0.0       0.0   \n",
       "\n",
       "     Seasons  Holiday  Functioning Day  Rental Count  Normal Humidity  \\\n",
       "39    Winter        0             True           688                1   \n",
       "50    Winter        0             True           262                0   \n",
       "64    Winter        0             True           577                0   \n",
       "105   Winter        0             True           313                0   \n",
       "151   Winter        0             True           269                0   \n",
       "...      ...      ...              ...           ...              ...   \n",
       "8669  Autumn        0             True           176                0   \n",
       "8679  Autumn        0             True           670                0   \n",
       "8710  Autumn        0             True          1034                0   \n",
       "8717  Autumn        0             True            30                0   \n",
       "8742  Autumn        0             True           166                0   \n",
       "\n",
       "     Temperature Category  Good weather  \n",
       "39                    NaN             0  \n",
       "50                    NaN             0  \n",
       "64                    NaN             0  \n",
       "105                   NaN             0  \n",
       "151                   NaN             0  \n",
       "...                   ...           ...  \n",
       "8669                  NaN             0  \n",
       "8679                  NaN             0  \n",
       "8710                  NaN             0  \n",
       "8717                  NaN             0  \n",
       "8742                  NaN             0  \n",
       "\n",
       "[179 rows x 14 columns]"
      ]
     },
     "execution_count": 121,
     "metadata": {},
     "output_type": "execute_result"
    }
   ],
   "source": [
    "bikes[bikes['Temperature'].isna()]"
   ]
  },
  {
   "cell_type": "code",
   "execution_count": 127,
   "metadata": {},
   "outputs": [],
   "source": [
    "bikes_without_na = bikes.dropna(subset=['Temperature'], axis=0)"
   ]
  },
  {
   "cell_type": "code",
   "execution_count": 141,
   "metadata": {},
   "outputs": [],
   "source": [
    "bikes['Temp_temp'] = bikes['Temperature'].fillna(bikes['Temperature'].mean())"
   ]
  },
  {
   "cell_type": "code",
   "execution_count": 142,
   "metadata": {},
   "outputs": [
    {
     "data": {
      "text/html": [
       "<div>\n",
       "<style scoped>\n",
       "    .dataframe tbody tr th:only-of-type {\n",
       "        vertical-align: middle;\n",
       "    }\n",
       "\n",
       "    .dataframe tbody tr th {\n",
       "        vertical-align: top;\n",
       "    }\n",
       "\n",
       "    .dataframe thead th {\n",
       "        text-align: right;\n",
       "    }\n",
       "</style>\n",
       "<table border=\"1\" class=\"dataframe\">\n",
       "  <thead>\n",
       "    <tr style=\"text-align: right;\">\n",
       "      <th></th>\n",
       "      <th>Date</th>\n",
       "      <th>Hour</th>\n",
       "      <th>Temperature</th>\n",
       "      <th>Humidity</th>\n",
       "      <th>Wind speed</th>\n",
       "      <th>Rainfall</th>\n",
       "      <th>Snowfall</th>\n",
       "      <th>Seasons</th>\n",
       "      <th>Holiday</th>\n",
       "      <th>Functioning Day</th>\n",
       "      <th>Rental Count</th>\n",
       "      <th>Normal Humidity</th>\n",
       "      <th>Temperature Category</th>\n",
       "      <th>Good weather</th>\n",
       "      <th>Temp_temp</th>\n",
       "    </tr>\n",
       "  </thead>\n",
       "  <tbody>\n",
       "    <tr>\n",
       "      <th>39</th>\n",
       "      <td>2017-12-02</td>\n",
       "      <td>15</td>\n",
       "      <td>NaN</td>\n",
       "      <td>41</td>\n",
       "      <td>2.3</td>\n",
       "      <td>0.0</td>\n",
       "      <td>0.0</td>\n",
       "      <td>Winter</td>\n",
       "      <td>0</td>\n",
       "      <td>True</td>\n",
       "      <td>688</td>\n",
       "      <td>1</td>\n",
       "      <td>NaN</td>\n",
       "      <td>0</td>\n",
       "      <td>12.878557</td>\n",
       "    </tr>\n",
       "    <tr>\n",
       "      <th>50</th>\n",
       "      <td>2017-12-03</td>\n",
       "      <td>2</td>\n",
       "      <td>NaN</td>\n",
       "      <td>79</td>\n",
       "      <td>1.4</td>\n",
       "      <td>0.0</td>\n",
       "      <td>0.0</td>\n",
       "      <td>Winter</td>\n",
       "      <td>0</td>\n",
       "      <td>True</td>\n",
       "      <td>262</td>\n",
       "      <td>0</td>\n",
       "      <td>NaN</td>\n",
       "      <td>0</td>\n",
       "      <td>12.878557</td>\n",
       "    </tr>\n",
       "    <tr>\n",
       "      <th>64</th>\n",
       "      <td>2017-12-03</td>\n",
       "      <td>16</td>\n",
       "      <td>NaN</td>\n",
       "      <td>77</td>\n",
       "      <td>1.6</td>\n",
       "      <td>0.0</td>\n",
       "      <td>0.0</td>\n",
       "      <td>Winter</td>\n",
       "      <td>0</td>\n",
       "      <td>True</td>\n",
       "      <td>577</td>\n",
       "      <td>0</td>\n",
       "      <td>NaN</td>\n",
       "      <td>0</td>\n",
       "      <td>12.878557</td>\n",
       "    </tr>\n",
       "    <tr>\n",
       "      <th>105</th>\n",
       "      <td>2017-12-05</td>\n",
       "      <td>9</td>\n",
       "      <td>NaN</td>\n",
       "      <td>31</td>\n",
       "      <td>1.3</td>\n",
       "      <td>0.0</td>\n",
       "      <td>0.0</td>\n",
       "      <td>Winter</td>\n",
       "      <td>0</td>\n",
       "      <td>True</td>\n",
       "      <td>313</td>\n",
       "      <td>0</td>\n",
       "      <td>NaN</td>\n",
       "      <td>0</td>\n",
       "      <td>12.878557</td>\n",
       "    </tr>\n",
       "    <tr>\n",
       "      <th>151</th>\n",
       "      <td>2017-12-07</td>\n",
       "      <td>7</td>\n",
       "      <td>NaN</td>\n",
       "      <td>93</td>\n",
       "      <td>0.5</td>\n",
       "      <td>0.0</td>\n",
       "      <td>0.9</td>\n",
       "      <td>Winter</td>\n",
       "      <td>0</td>\n",
       "      <td>True</td>\n",
       "      <td>269</td>\n",
       "      <td>0</td>\n",
       "      <td>NaN</td>\n",
       "      <td>0</td>\n",
       "      <td>12.878557</td>\n",
       "    </tr>\n",
       "  </tbody>\n",
       "</table>\n",
       "</div>"
      ],
      "text/plain": [
       "          Date  Hour  Temperature  Humidity  Wind speed  Rainfall  Snowfall  \\\n",
       "39  2017-12-02    15          NaN        41         2.3       0.0       0.0   \n",
       "50  2017-12-03     2          NaN        79         1.4       0.0       0.0   \n",
       "64  2017-12-03    16          NaN        77         1.6       0.0       0.0   \n",
       "105 2017-12-05     9          NaN        31         1.3       0.0       0.0   \n",
       "151 2017-12-07     7          NaN        93         0.5       0.0       0.9   \n",
       "\n",
       "    Seasons  Holiday  Functioning Day  Rental Count  Normal Humidity  \\\n",
       "39   Winter        0             True           688                1   \n",
       "50   Winter        0             True           262                0   \n",
       "64   Winter        0             True           577                0   \n",
       "105  Winter        0             True           313                0   \n",
       "151  Winter        0             True           269                0   \n",
       "\n",
       "    Temperature Category  Good weather  Temp_temp  \n",
       "39                   NaN             0  12.878557  \n",
       "50                   NaN             0  12.878557  \n",
       "64                   NaN             0  12.878557  \n",
       "105                  NaN             0  12.878557  \n",
       "151                  NaN             0  12.878557  "
      ]
     },
     "execution_count": 142,
     "metadata": {},
     "output_type": "execute_result"
    }
   ],
   "source": [
    "bikes[bikes['Temperature'].isna()].head()"
   ]
  },
  {
   "cell_type": "code",
   "execution_count": null,
   "metadata": {},
   "outputs": [],
   "source": []
  }
 ],
 "metadata": {
  "kernelspec": {
   "display_name": "Python 3",
   "language": "python",
   "name": "python3"
  },
  "language_info": {
   "codemirror_mode": {
    "name": "ipython",
    "version": 3
   },
   "file_extension": ".py",
   "mimetype": "text/x-python",
   "name": "python",
   "nbconvert_exporter": "python",
   "pygments_lexer": "ipython3",
   "version": "3.8.5"
  }
 },
 "nbformat": 4,
 "nbformat_minor": 4
}
