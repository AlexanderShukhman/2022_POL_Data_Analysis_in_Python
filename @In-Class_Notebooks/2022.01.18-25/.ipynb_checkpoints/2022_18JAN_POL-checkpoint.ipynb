{
 "cells": [
  {
   "cell_type": "markdown",
   "metadata": {},
   "source": [
    "# Python Refresher\n",
    "\n",
    "**\"Несоставные\" типы даннных**\n",
    "1. int — integer — целые числа\n",
    "2. float — floating point number — вещественное число\n",
    "3. bool — boolean — логический тип\n",
    "4. None — \"пустота\"\n",
    "5. str — string — строка / текст\n",
    "\n"
   ]
  },
  {
   "cell_type": "code",
   "execution_count": 13,
   "metadata": {},
   "outputs": [
    {
     "data": {
      "text/plain": [
       "True"
      ]
     },
     "execution_count": 13,
     "metadata": {},
     "output_type": "execute_result"
    }
   ],
   "source": [
    "(0.1 + 0.2) - 0.3 < 0.00001"
   ]
  },
  {
   "cell_type": "code",
   "execution_count": 14,
   "metadata": {},
   "outputs": [
    {
     "data": {
      "text/plain": [
       "0.30000000000000004"
      ]
     },
     "execution_count": 14,
     "metadata": {},
     "output_type": "execute_result"
    }
   ],
   "source": [
    "0.1 + 0.2"
   ]
  },
  {
   "cell_type": "code",
   "execution_count": 20,
   "metadata": {},
   "outputs": [
    {
     "name": "stdout",
     "output_type": "stream",
     "text": [
      "4\n",
      "5\n"
     ]
    }
   ],
   "source": [
    "print(round(3.5))\n",
    "print(round(4.5 + 0.00001))"
   ]
  },
  {
   "cell_type": "markdown",
   "metadata": {},
   "source": [
    "**Последовательности (можем обратиться по индексу)**\n",
    "1. tuple — кортежи\n",
    "2. list — список\n",
    "3. str — cтрока\n",
    "\n"
   ]
  },
  {
   "cell_type": "code",
   "execution_count": 33,
   "metadata": {},
   "outputs": [
    {
     "name": "stdout",
     "output_type": "stream",
     "text": [
      "cat\n"
     ]
    }
   ],
   "source": [
    "print('cat')"
   ]
  },
  {
   "cell_type": "code",
   "execution_count": 1,
   "metadata": {},
   "outputs": [
    {
     "data": {
      "text/plain": [
       "4"
      ]
     },
     "execution_count": 1,
     "metadata": {},
     "output_type": "execute_result"
    }
   ],
   "source": [
    "ex = tuple([4, 8, 'cat', None, 6.4])\n",
    "ex[0]"
   ]
  },
  {
   "cell_type": "code",
   "execution_count": 11,
   "metadata": {},
   "outputs": [
    {
     "data": {
      "text/plain": [
       "[5, 'cat', 'dog']"
      ]
     },
     "execution_count": 11,
     "metadata": {},
     "output_type": "execute_result"
    }
   ],
   "source": [
    "lst = [5, 'cat', None]\n",
    "lst[-1] = 'dog'\n",
    "lst"
   ]
  },
  {
   "cell_type": "code",
   "execution_count": 12,
   "metadata": {},
   "outputs": [],
   "source": [
    "lst.append(9)"
   ]
  },
  {
   "cell_type": "code",
   "execution_count": 15,
   "metadata": {},
   "outputs": [
    {
     "data": {
      "text/plain": [
       "1"
      ]
     },
     "execution_count": 15,
     "metadata": {},
     "output_type": "execute_result"
    }
   ],
   "source": [
    "lst.count(5)"
   ]
  },
  {
   "cell_type": "code",
   "execution_count": 18,
   "metadata": {},
   "outputs": [
    {
     "data": {
      "text/plain": [
       "[1, 2, 4]"
      ]
     },
     "execution_count": 18,
     "metadata": {},
     "output_type": "execute_result"
    }
   ],
   "source": [
    "nums = '1 2 4'\n",
    "list(map(int, nums.split()))"
   ]
  },
  {
   "cell_type": "code",
   "execution_count": 21,
   "metadata": {},
   "outputs": [
    {
     "data": {
      "text/plain": [
       "[1, 2, 4]"
      ]
     },
     "execution_count": 21,
     "metadata": {},
     "output_type": "execute_result"
    }
   ],
   "source": [
    "# list comprehension / списковые включения\n",
    "[int(n) for n in nums.split()]"
   ]
  },
  {
   "cell_type": "code",
   "execution_count": 26,
   "metadata": {},
   "outputs": [
    {
     "data": {
      "text/plain": [
       "[2, 4]"
      ]
     },
     "execution_count": 26,
     "metadata": {},
     "output_type": "execute_result"
    }
   ],
   "source": [
    "new = []\n",
    "for n in nums.split():\n",
    "    n = int(n)\n",
    "    if n % 2 == 0:\n",
    "        new.append(n)\n",
    "new"
   ]
  },
  {
   "cell_type": "code",
   "execution_count": 30,
   "metadata": {},
   "outputs": [
    {
     "data": {
      "text/plain": [
       "[2, 4]"
      ]
     },
     "execution_count": 30,
     "metadata": {},
     "output_type": "execute_result"
    }
   ],
   "source": [
    "new = [int(i) for i in nums.split() if int(i) % 2 == 0]"
   ]
  },
  {
   "cell_type": "code",
   "execution_count": 29,
   "metadata": {},
   "outputs": [
    {
     "data": {
      "text/plain": [
       "['CAT', 'DOG']"
      ]
     },
     "execution_count": 29,
     "metadata": {},
     "output_type": "execute_result"
    }
   ],
   "source": [
    "#list comprehension\n",
    "[word.upper() for word in words if len(word) == 3]"
   ]
  },
  {
   "cell_type": "code",
   "execution_count": 32,
   "metadata": {},
   "outputs": [
    {
     "data": {
      "text/plain": [
       "{0, 1, 4, 9, 16, 25, 36, 49, 64}"
      ]
     },
     "execution_count": 32,
     "metadata": {},
     "output_type": "execute_result"
    }
   ],
   "source": [
    "# set comprehension\n",
    "{num ** 2 for num in range(9)}"
   ]
  },
  {
   "cell_type": "code",
   "execution_count": 27,
   "metadata": {},
   "outputs": [
    {
     "data": {
      "text/plain": [
       "['cat', 'dog']"
      ]
     },
     "execution_count": 27,
     "metadata": {},
     "output_type": "execute_result"
    }
   ],
   "source": [
    "words = ['cat', 'dog', 'parrot']\n",
    "new = []\n",
    "for word in words:\n",
    "    if len(word) == 3:\n",
    "        new.append(word)\n",
    "new"
   ]
  },
  {
   "cell_type": "code",
   "execution_count": 34,
   "metadata": {},
   "outputs": [
    {
     "data": {
      "text/plain": [
       "['cat', 'dog']"
      ]
     },
     "execution_count": 34,
     "metadata": {},
     "output_type": "execute_result"
    }
   ],
   "source": [
    "words = 'cat,dog'\n",
    "words.split(',')"
   ]
  },
  {
   "cell_type": "code",
   "execution_count": 36,
   "metadata": {},
   "outputs": [
    {
     "data": {
      "text/plain": [
       "'cat;dog'"
      ]
     },
     "execution_count": 36,
     "metadata": {},
     "output_type": "execute_result"
    }
   ],
   "source": [
    "';'.join(new)"
   ]
  },
  {
   "cell_type": "code",
   "execution_count": 38,
   "metadata": {},
   "outputs": [
    {
     "data": {
      "text/plain": [
       "'4;4'"
      ]
     },
     "execution_count": 38,
     "metadata": {},
     "output_type": "execute_result"
    }
   ],
   "source": [
    "new = [4, 4]\n",
    "';'.join(map(str, new))"
   ]
  },
  {
   "cell_type": "code",
   "execution_count": 41,
   "metadata": {},
   "outputs": [
    {
     "data": {
      "text/plain": [
       "True"
      ]
     },
     "execution_count": 41,
     "metadata": {},
     "output_type": "execute_result"
    }
   ],
   "source": [
    "'cat'.startswith('c')"
   ]
  },
  {
   "cell_type": "code",
   "execution_count": 43,
   "metadata": {},
   "outputs": [
    {
     "name": "stdout",
     "output_type": "stream",
     "text": [
      "Слово не начинается с c\n"
     ]
    }
   ],
   "source": [
    "if 'cat'.startswith('в'):\n",
    "    print('Слово начинается с c')\n",
    "else:\n",
    "    print('Слово не начинается с c')"
   ]
  },
  {
   "cell_type": "markdown",
   "metadata": {},
   "source": [
    "**Коллекции (не можем обратиться по индексу)**\n",
    "1. dict — dictionary — словарь\n",
    "2. set — множество\n",
    "3. frozenset — «замороженное» множество"
   ]
  },
  {
   "cell_type": "code",
   "execution_count": 46,
   "metadata": {},
   "outputs": [
    {
     "data": {
      "text/plain": [
       "set"
      ]
     },
     "execution_count": 46,
     "metadata": {},
     "output_type": "execute_result"
    }
   ],
   "source": [
    "type(set())"
   ]
  },
  {
   "cell_type": "code",
   "execution_count": 56,
   "metadata": {},
   "outputs": [
    {
     "data": {
      "text/plain": [
       "{'apple'}"
      ]
     },
     "execution_count": 56,
     "metadata": {},
     "output_type": "execute_result"
    }
   ],
   "source": [
    "my_ice_cream = {'apple', 'chocolate', 'banana'}\n",
    "friend_ice_cream = {'mint', 'apple', 'strawberry'}\n",
    "my_ice_cream & friend_ice_cream"
   ]
  },
  {
   "cell_type": "code",
   "execution_count": 54,
   "metadata": {},
   "outputs": [
    {
     "data": {
      "text/plain": [
       "{'apple', 'banana', 'chocolate', 'mint', 'strawberry'}"
      ]
     },
     "execution_count": 54,
     "metadata": {},
     "output_type": "execute_result"
    }
   ],
   "source": [
    "my_ice_cream | friend_ice_cream"
   ]
  },
  {
   "cell_type": "code",
   "execution_count": 60,
   "metadata": {},
   "outputs": [
    {
     "data": {
      "text/plain": [
       "{'mint', 'strawberry'}"
      ]
     },
     "execution_count": 60,
     "metadata": {},
     "output_type": "execute_result"
    }
   ],
   "source": [
    "friend_ice_cream - my_ice_cream"
   ]
  },
  {
   "cell_type": "code",
   "execution_count": 61,
   "metadata": {},
   "outputs": [
    {
     "data": {
      "text/plain": [
       "{'banana', 'chocolate', 'mint', 'strawberry'}"
      ]
     },
     "execution_count": 61,
     "metadata": {},
     "output_type": "execute_result"
    }
   ],
   "source": [
    "friend_ice_cream ^ my_ice_cream"
   ]
  },
  {
   "cell_type": "code",
   "execution_count": 63,
   "metadata": {},
   "outputs": [],
   "source": [
    "my_set = {'apple', 'banana'}"
   ]
  },
  {
   "cell_type": "code",
   "execution_count": 64,
   "metadata": {},
   "outputs": [
    {
     "data": {
      "text/plain": [
       "{'apple', 'banana'}"
      ]
     },
     "execution_count": 64,
     "metadata": {},
     "output_type": "execute_result"
    }
   ],
   "source": [
    "my_set.add('apple')\n",
    "my_set.add('banana')\n",
    "my_set"
   ]
  },
  {
   "cell_type": "code",
   "execution_count": 69,
   "metadata": {},
   "outputs": [
    {
     "data": {
      "text/plain": [
       "{'cat': 200, 'dog': 100, 'parrot': 10}"
      ]
     },
     "execution_count": 69,
     "metadata": {},
     "output_type": "execute_result"
    }
   ],
   "source": [
    "words = {'cat':10, 'dog':100, 'parrot':10} # key-value\n",
    "words['cat'] = 200\n",
    "words"
   ]
  },
  {
   "cell_type": "code",
   "execution_count": 72,
   "metadata": {},
   "outputs": [
    {
     "data": {
      "text/plain": [
       "True"
      ]
     },
     "execution_count": 72,
     "metadata": {},
     "output_type": "execute_result"
    }
   ],
   "source": [
    "10 in words.values()"
   ]
  },
  {
   "cell_type": "code",
   "execution_count": 75,
   "metadata": {},
   "outputs": [
    {
     "data": {
      "text/plain": [
       "'cat'"
      ]
     },
     "execution_count": 75,
     "metadata": {},
     "output_type": "execute_result"
    }
   ],
   "source": [
    "words = {'nouns':['cat', 'dog'], 'verbs':['run', 'go']}\n",
    "words['nouns'][0]"
   ]
  },
  {
   "cell_type": "code",
   "execution_count": 78,
   "metadata": {},
   "outputs": [
    {
     "data": {
      "text/plain": [
       "30"
      ]
     },
     "execution_count": 78,
     "metadata": {},
     "output_type": "execute_result"
    }
   ],
   "source": [
    "stats = {('Men', 18):30, ('Men', 19):50, ('Female', 18):60}\n",
    "stats[('Men', 18)]"
   ]
  },
  {
   "cell_type": "markdown",
   "metadata": {},
   "source": [
    "# Пользовательские функции"
   ]
  },
  {
   "cell_type": "code",
   "execution_count": null,
   "metadata": {},
   "outputs": [],
   "source": [
    "def название_функции(аргументы):\n",
    "    return Результат"
   ]
  },
  {
   "cell_type": "code",
   "execution_count": 90,
   "metadata": {},
   "outputs": [],
   "source": [
    "def converter(rub):\n",
    "    return round(rub / 79.02, 2)"
   ]
  },
  {
   "cell_type": "code",
   "execution_count": 89,
   "metadata": {},
   "outputs": [
    {
     "data": {
      "text/plain": [
       "[12.66, 37.97, 18.98]"
      ]
     },
     "execution_count": 89,
     "metadata": {},
     "output_type": "execute_result"
    }
   ],
   "source": [
    "my_money = [1000, 3000, 1500]\n",
    "list(map(lambda rub: round(rub / 79.02, 2), my_money))"
   ]
  },
  {
   "cell_type": "code",
   "execution_count": 93,
   "metadata": {},
   "outputs": [
    {
     "data": {
      "text/plain": [
       "[1000000, 9000000, 2250000]"
      ]
     },
     "execution_count": 93,
     "metadata": {},
     "output_type": "execute_result"
    }
   ],
   "source": [
    "list(map(lambda rub: rub ** 2, my_money))"
   ]
  },
  {
   "cell_type": "code",
   "execution_count": 105,
   "metadata": {},
   "outputs": [
    {
     "data": {
      "text/plain": [
       "[None, 37.97, 18.98]"
      ]
     },
     "execution_count": 105,
     "metadata": {},
     "output_type": "execute_result"
    }
   ],
   "source": [
    "my_money = [1000, 3000, 1500]\n",
    "list(map(lambda rub: round(rub / 79.02, 2) if rub >= 1500 else None, my_money))"
   ]
  },
  {
   "cell_type": "code",
   "execution_count": 107,
   "metadata": {},
   "outputs": [
    {
     "data": {
      "text/plain": [
       "[False, 9000000, 2250000]"
      ]
     },
     "execution_count": 107,
     "metadata": {},
     "output_type": "execute_result"
    }
   ],
   "source": [
    "list(map(lambda rub: rub ** 2 if rub >= 1500 else False, my_money))"
   ]
  },
  {
   "cell_type": "code",
   "execution_count": 111,
   "metadata": {},
   "outputs": [
    {
     "data": {
      "text/plain": [
       "[12.66, 37.97, 18.98]"
      ]
     },
     "execution_count": 111,
     "metadata": {},
     "output_type": "execute_result"
    }
   ],
   "source": [
    "list(map(converter, my_money))"
   ]
  },
  {
   "cell_type": "code",
   "execution_count": 110,
   "metadata": {},
   "outputs": [
    {
     "name": "stdout",
     "output_type": "stream",
     "text": [
      "[12.66, 37.97, 18.98]\n"
     ]
    }
   ],
   "source": [
    "new = []\n",
    "for rub in my_money:\n",
    "    new.append(converter(rub))\n",
    "print(new)"
   ]
  },
  {
   "cell_type": "code",
   "execution_count": null,
   "metadata": {},
   "outputs": [],
   "source": [
    "'From '"
   ]
  },
  {
   "cell_type": "code",
   "execution_count": 1,
   "metadata": {},
   "outputs": [
    {
     "name": "stderr",
     "output_type": "stream",
     "text": [
      "/Users/rogovich/opt/anaconda3/lib/python3.8/site-packages/requests/__init__.py:89: RequestsDependencyWarning: urllib3 (1.26.8) or chardet (3.0.4) doesn't match a supported version!\n",
      "  warnings.warn(\"urllib3 ({}) or chardet ({}) doesn't match a supported \"\n"
     ]
    }
   ],
   "source": [
    "import requests\n",
    "file = requests.get('https://raw.githubusercontent.com/rogovich/2022_POL_Data_Analysis_in_Python/main/01_Python_Refresher/%40Problems/mbox.txt').text\n",
    "lines = file.split('\\n')\n",
    "\n",
    "#1. Словарик — кто отправил сколько писем (email:quantity)\n",
    "#2. Кто отправил больше всего писем (email)\n",
    "#3. Average 'X-DSPAM-Confidence' для всей переписки\n",
    "#4. Словарик — во сколько были отправлены письма (час:количество)"
   ]
  },
  {
   "cell_type": "code",
   "execution_count": 16,
   "metadata": {},
   "outputs": [
    {
     "data": {
      "text/plain": [
       "{'stephen.marquard@uct.ac.za': 29,\n",
       " 'source@collab.sakaiproject.org': 1797,\n",
       " 'louis@media.berkeley.edu': 24,\n",
       " 'zqian@umich.edu': 226,\n",
       " 'rjlowe@iupui.edu': 90,\n",
       " 'cwen@iupui.edu': 158,\n",
       " 'gsilver@umich.edu': 28,\n",
       " 'wagnermr@iupui.edu': 44,\n",
       " 'antranig@caret.cam.ac.uk': 18,\n",
       " 'gopal.ramasammycook@gmail.com': 25,\n",
       " 'david.horwitz@uct.ac.za': 69,\n",
       " 'ray@media.berkeley.edu': 32,\n",
       " 'mmmay@indiana.edu': 161,\n",
       " 'stuart.freeman@et.gatech.edu': 17,\n",
       " 'tnguyen@iupui.edu': 6,\n",
       " 'chmaurer@iupui.edu': 110,\n",
       " 'aaronz@vt.edu': 110,\n",
       " 'ian@caret.cam.ac.uk': 96,\n",
       " 'csev@umich.edu': 19,\n",
       " 'jimeng@umich.edu': 93,\n",
       " 'josrodri@iupui.edu': 28,\n",
       " 'bkirschn@umich.edu': 27,\n",
       " 'dlhaines@umich.edu': 84,\n",
       " 'hu2@iupui.edu': 7,\n",
       " 'sgithens@caret.cam.ac.uk': 43,\n",
       " 'arwhyte@umich.edu': 27,\n",
       " 'gbhatnag@umich.edu': 3,\n",
       " 'gjthomas@iupui.edu': 44,\n",
       " 'a.fish@lancaster.ac.uk': 14,\n",
       " 'ajpoland@iupui.edu': 48,\n",
       " 'lance@indiana.edu': 8,\n",
       " 'ssmail@indiana.edu': 5,\n",
       " 'jlrenfro@ucdavis.edu': 1,\n",
       " 'nuno@ufp.pt': 28,\n",
       " 'zach.thomas@txstate.edu': 17,\n",
       " 'ktsao@stanford.edu': 12,\n",
       " 'ostermmg@whitman.edu': 17,\n",
       " 'john.ellis@rsmart.com': 8,\n",
       " 'jleasia@umich.edu': 2,\n",
       " 'ggolden@umich.edu': 8,\n",
       " 'thoppaymallika@fhda.edu': 1,\n",
       " 'kimsooil@bu.edu': 14,\n",
       " 'bahollad@indiana.edu': 4,\n",
       " 'jzaremba@unicon.net': 9,\n",
       " 'colin.clark@utoronto.ca': 5,\n",
       " 'mbreuker@loi.nl': 9}"
      ]
     },
     "execution_count": 16,
     "metadata": {},
     "output_type": "execute_result"
    }
   ],
   "source": [
    "with open('mbox.txt') as file:\n",
    "    string_with_emails = [i for i in file.readlines() if \"@\" in i]\n",
    "\n",
    "    emails_to = {}\n",
    "    for i in string_with_emails:\n",
    "        emails = [j for j in i.split() if '@' in j and 'to' in i.lower() if '>' not in j and 'tool' not in j]\n",
    "        for j in emails:\n",
    "            emails_to[j] = emails_to.get(j, 0) + 1\n",
    "emails_to"
   ]
  },
  {
   "cell_type": "code",
   "execution_count": 5,
   "metadata": {},
   "outputs": [
    {
     "data": {
      "text/plain": [
       "True"
      ]
     },
     "execution_count": 5,
     "metadata": {},
     "output_type": "execute_result"
    }
   ],
   "source": [
    "' fa'.strip() == 'fa'"
   ]
  },
  {
   "cell_type": "code",
   "execution_count": 6,
   "metadata": {},
   "outputs": [
    {
     "data": {
      "text/plain": [
       "[4, 5, 8, 10, 1]"
      ]
     },
     "execution_count": 6,
     "metadata": {},
     "output_type": "execute_result"
    }
   ],
   "source": [
    "a = [4, 5]\n",
    "a.extend([8, 10, 1])\n",
    "a"
   ]
  },
  {
   "cell_type": "code",
   "execution_count": 19,
   "metadata": {},
   "outputs": [
    {
     "name": "stdout",
     "output_type": "stream",
     "text": [
      "zqian@umich.edu sent 195\n"
     ]
    }
   ],
   "source": [
    "email_quant = {}\n",
    "for line in lines:\n",
    "    try:\n",
    "        if 'Author:' in line:\n",
    "            line = line.split(':')\n",
    "            key = line[1].strip()\n",
    "            if key in email_quant:\n",
    "                email_quant[key] += 1\n",
    "            else:\n",
    "                email_quant.update({key: 1})\n",
    "    except:\n",
    "        pass\n",
    "    \n",
    "    \n",
    "maxim_em = 0\n",
    "for key, value in email_quant.items():\n",
    "    if value > maxim_em:\n",
    "        maxim_em = value\n",
    "        max_author = key\n",
    "print(f'{max_author} sent {maxim_em}')"
   ]
  },
  {
   "cell_type": "code",
   "execution_count": 33,
   "metadata": {},
   "outputs": [
    {
     "name": "stdout",
     "output_type": "stream",
     "text": [
      "[1, 2, 10, 20, 31]\n",
      "['1', '2', '10', '20', '31']\n"
     ]
    }
   ],
   "source": [
    "example = ['1', '2', '10', '20', '31']\n",
    "print(sorted(map(int, example)))\n",
    "print(sorted(example, key=int))"
   ]
  },
  {
   "cell_type": "code",
   "execution_count": 36,
   "metadata": {},
   "outputs": [
    {
     "name": "stdout",
     "output_type": "stream",
     "text": [
      "['Alice', 'apple', 'cat', 'Dad', 'dog']\n"
     ]
    }
   ],
   "source": [
    "example = ['cat', 'Dad', 'dog', 'apple', 'Alice']\n",
    "print(sorted(example, key=str.lower))"
   ]
  },
  {
   "cell_type": "code",
   "execution_count": 43,
   "metadata": {},
   "outputs": [
    {
     "data": {
      "text/plain": [
       "195"
      ]
     },
     "execution_count": 43,
     "metadata": {},
     "output_type": "execute_result"
    }
   ],
   "source": [
    "email_quant.get('zqian@umich.edu')"
   ]
  },
  {
   "cell_type": "code",
   "execution_count": 47,
   "metadata": {},
   "outputs": [
    {
     "data": {
      "text/plain": [
       "'jlrenfro@ucdavis.edu'"
      ]
     },
     "execution_count": 47,
     "metadata": {},
     "output_type": "execute_result"
    }
   ],
   "source": [
    "min(email_quant, key=email_quant.get)"
   ]
  },
  {
   "cell_type": "code",
   "execution_count": 48,
   "metadata": {},
   "outputs": [
    {
     "data": {
      "text/plain": [
       "'a.fish@lancaster.ac.uk'"
      ]
     },
     "execution_count": 48,
     "metadata": {},
     "output_type": "execute_result"
    }
   ],
   "source": [
    "min(email_quant)"
   ]
  },
  {
   "cell_type": "code",
   "execution_count": 10,
   "metadata": {},
   "outputs": [
    {
     "data": {
      "text/plain": [
       "{'dlhaines@umich.edu': 84,\n",
       " 'ostermmg@whitman.edu': 17,\n",
       " 'arwhyte@umich.edu': 27,\n",
       " 'gsilver@umich.edu': 28,\n",
       " 'cwen@iupui.edu': 158,\n",
       " 'thoppaymallika@fhda.edu': 1,\n",
       " 'bahollad@indiana.edu': 4,\n",
       " 'david.horwitz@uct.ac.za': 67,\n",
       " 'aaronz@vt.edu': 110,\n",
       " 'zqian@umich.edu': 195,\n",
       " 'jlrenfro@ucdavis.edu': 1,\n",
       " 'mbreuker@loi.nl': 9,\n",
       " 'csev@umich.edu': 19,\n",
       " 'antranig@caret.cam.ac.uk': 18,\n",
       " 'jzaremba@unicon.net': 9,\n",
       " 'wagnermr@iupui.edu': 44,\n",
       " 'louis@media.berkeley.edu': 24,\n",
       " 'ian@caret.cam.ac.uk': 96,\n",
       " 'jleasia@umich.edu': 2,\n",
       " 'ssmail@indiana.edu': 5,\n",
       " 'ray@media.berkeley.edu': 32,\n",
       " 'john.ellis@rsmart.com': 8,\n",
       " 'a.fish@lancaster.ac.uk': 14,\n",
       " 'rjlowe@iupui.edu': 90,\n",
       " 'hu2@iupui.edu': 7,\n",
       " 'ajpoland@iupui.edu': 48,\n",
       " 'jimeng@umich.edu': 93,\n",
       " 'sgithens@caret.cam.ac.uk': 43,\n",
       " 'chmaurer@iupui.edu': 111,\n",
       " 'kimsooil@bu.edu': 14,\n",
       " 'tnguyen@iupui.edu': 6,\n",
       " 'knoop@umich.edu': 5,\n",
       " 'lance@indiana.edu': 8,\n",
       " 'bkirschn@umich.edu': 27,\n",
       " 'zach.thomas@txstate.edu': 17,\n",
       " 'stuart.freeman@et.gatech.edu': 17,\n",
       " 'nuno@ufp.pt': 28,\n",
       " 'gbhatnag@umich.edu': 3,\n",
       " 'josrodri@iupui.edu': 28,\n",
       " 'colin.clark@utoronto.ca': 1,\n",
       " 'gopal.ramasammycook@gmail.com': 25,\n",
       " 'stephen.marquard@uct.ac.za': 29,\n",
       " 'ggolden@umich.edu': 8,\n",
       " 'gjthomas@iupui.edu': 44,\n",
       " 'mmmay@indiana.edu': 161,\n",
       " 'ktsao@stanford.edu': 12}"
      ]
     },
     "execution_count": 10,
     "metadata": {},
     "output_type": "execute_result"
    }
   ],
   "source": [
    "#1\n",
    "strki = []\n",
    "for i in range(len(lines)): \n",
    "    if lines[i].find(\"From:\") == 0: \n",
    "        strki.append(lines[i])\n",
    "    \n",
    "for i in range(len(strki)):\n",
    "     strki[i] = strki[i].replace(\"From: \", \"\")\n",
    "        \n",
    "email_quantity = {}\n",
    "for item in set(strki):\n",
    "    email_quantity[item] = strki.count(item)\n",
    "    \n",
    "email_quantity"
   ]
  },
  {
   "cell_type": "code",
   "execution_count": 52,
   "metadata": {},
   "outputs": [
    {
     "data": {
      "text/plain": [
       "0.8941280467445736"
      ]
     },
     "execution_count": 52,
     "metadata": {},
     "output_type": "execute_result"
    }
   ],
   "source": [
    "with open('mbox.txt') as file:\n",
    "    strings_with_x_dspam = [float(line.strip().split()[1]) \n",
    "                            for line in file if 'X-DSPAM-Confidence' in line]\n",
    "\n",
    "sum(strings_with_x_dspam)/len(strings_with_x_dspam)"
   ]
  },
  {
   "cell_type": "code",
   "execution_count": null,
   "metadata": {},
   "outputs": [],
   "source": []
  }
 ],
 "metadata": {
  "kernelspec": {
   "display_name": "Python 3",
   "language": "python",
   "name": "python3"
  },
  "language_info": {
   "codemirror_mode": {
    "name": "ipython",
    "version": 3
   },
   "file_extension": ".py",
   "mimetype": "text/x-python",
   "name": "python",
   "nbconvert_exporter": "python",
   "pygments_lexer": "ipython3",
   "version": "3.8.5"
  }
 },
 "nbformat": 4,
 "nbformat_minor": 4
}
