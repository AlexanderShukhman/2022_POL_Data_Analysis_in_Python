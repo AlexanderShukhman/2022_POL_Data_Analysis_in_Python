{
 "cells": [
  {
   "cell_type": "code",
   "execution_count": 62,
   "metadata": {},
   "outputs": [
    {
     "name": "stdout",
     "output_type": "stream",
     "text": [
      "<class 'pandas.core.frame.DataFrame'>\n",
      "RangeIndex: 1 entries, 0 to 0\n",
      "Data columns (total 2 columns):\n",
      " #   Column  Non-Null Count  Dtype\n",
      "---  ------  --------------  -----\n",
      " 0   2       1 non-null      int64\n",
      " 1   3       1 non-null      int64\n",
      "dtypes: int64(2)\n",
      "memory usage: 144.0 bytes\n"
     ]
    }
   ],
   "source": [
    "import pandas as pd\n",
    "\n",
    "df = pd.DataFrame({'2':[3], '3':[4]})\n",
    "df.info()"
   ]
  },
  {
   "cell_type": "code",
   "execution_count": 24,
   "metadata": {},
   "outputs": [
    {
     "data": {
      "text/plain": [
       "(1, 2)"
      ]
     },
     "execution_count": 24,
     "metadata": {},
     "output_type": "execute_result"
    }
   ],
   "source": [
    "df.shape"
   ]
  },
  {
   "cell_type": "code",
   "execution_count": null,
   "metadata": {},
   "outputs": [],
   "source": [
    "# snake_case - переменные и функции\n",
    "# CamelCase - классы"
   ]
  },
  {
   "cell_type": "code",
   "execution_count": 97,
   "metadata": {},
   "outputs": [],
   "source": [
    "class Car:\n",
    "    # статический атрибут класса\n",
    "    default_color = 'green'\n",
    "    \n",
    "    # статический метод - не можем вызвать от экземпляра!\n",
    "    def is_warranty_valid(age):\n",
    "        return age < 3\n",
    "    \n",
    "    # конструктор класса\n",
    "    def __init__(self, color, model, age):\n",
    "        # динамический атрибут\n",
    "        self.model = model\n",
    "        self.age = age\n",
    "        if color == None:\n",
    "            self.color = self.default_color\n",
    "        else:\n",
    "            self.color = color\n",
    "    # динамический метод\n",
    "    def is_warranty_valid_dynamic(self):\n",
    "        return self.age < 3\n",
    "    \n",
    "    def info(self):\n",
    "        print('Color:', self.color)\n",
    "        print('Age:', self.age)\n",
    "        print('Warranty:', self.is_warranty_valid_dynamic())"
   ]
  },
  {
   "cell_type": "code",
   "execution_count": 98,
   "metadata": {},
   "outputs": [
    {
     "name": "stdout",
     "output_type": "stream",
     "text": [
      "Color: red\n",
      "Age: 2\n",
      "Warranty: True\n",
      "None\n"
     ]
    }
   ],
   "source": [
    "audi = Car('red', 'a5', 2)\n",
    "print(audi.info())"
   ]
  },
  {
   "cell_type": "code",
   "execution_count": 39,
   "metadata": {},
   "outputs": [
    {
     "data": {
      "text/plain": [
       "'red'"
      ]
     },
     "execution_count": 39,
     "metadata": {},
     "output_type": "execute_result"
    }
   ],
   "source": [
    "niva = Car('red')\n",
    "niva.color"
   ]
  },
  {
   "cell_type": "markdown",
   "metadata": {},
   "source": [
    "Задание\n",
    "\n",
    "1. Определите класс Student(). Его конструктор должен принимать два параметра: имя и курс обучения (год) и сохранять их в переменные name (str) и year (int).\n",
    "\n",
    "2. Создате класс Grade() с атрибутом класса minimum_passing равным 4.\n",
    "\n",
    "3. Добавьте в Grade конструктор, который должен принимать один аргумент (оценку) и сохранять ее в переменную score. Добавьте в Grade динамический метод, который проверяет оценку на минимальный балл и возвращает True, если она больше или равна четырем.\n",
    "\n",
    "4. В конструкторе класса Student объявите self.grades и присвойте пустой список.\n",
    "\n",
    "5. Создайте два экземпляра класса ivan (Иван Смирнов, 2 курс) и olga (Ольга Петрова, 4 курс).\n",
    "\n",
    "6. Добавьте в класс Student динамический метод add_grade(), который принимает параметр grade. add_grade() должен проверять, что введенная оценка является проходной (is_passing()). Если да, то добавьте .score оценки в список студента, если нет, то ничего не делайте.\n",
    "\n",
    "7. Создайте новый экземпляр Grade() с параметром 10 и добавьте его в оценки Ивана. Добавьте в оценки Ивана еще две оценки - 5 и 7. Выведите оценки Ивана. Добавьте в оценки Ольги 2 и 4. Выведите оценки Ольги.\n",
    "\n",
    "8. В классе Student создайте метод get_average, который возвращает среднее оценок студента. Выведите среднее оценок Ивана."
   ]
  },
  {
   "cell_type": "code",
   "execution_count": 124,
   "metadata": {},
   "outputs": [],
   "source": [
    "class Student:\n",
    "    # конструктор класса \n",
    "    def __init__(self, name=str,year=int): \n",
    "        self.name = name\n",
    "        self.year = year \n",
    "        self.grades = []\n",
    "\n",
    "    def add_grade(self, grade=Grade):\n",
    "        if grade.is_passing():\n",
    "            self.grades.append(grade.score)\n",
    "            \n",
    "    def get_average(self):\n",
    "        if len(self.grades) != 0:\n",
    "            return sum(self.grades) / len(self.grades)\n",
    "        else:\n",
    "            return 'Добавьте оценки'\n",
    "\n",
    "        \n",
    "class Grade:\n",
    "    # cтатический атрибут\n",
    "    minimum_passing = 4\n",
    "    def __init__(self, score=int):\n",
    "        self.score = score\n",
    "    def is_passing(self): \n",
    "        return self.score >= self.minimum_passing"
   ]
  },
  {
   "cell_type": "code",
   "execution_count": 125,
   "metadata": {},
   "outputs": [
    {
     "data": {
      "text/plain": [
       "7.5"
      ]
     },
     "execution_count": 125,
     "metadata": {},
     "output_type": "execute_result"
    }
   ],
   "source": [
    "ivan = Student('Ivan', 2)\n",
    "mark_1 = Grade(5)\n",
    "mark_2 = Grade(3)\n",
    "mark_3 = Grade(10)\n",
    "ivan.add_grade(mark_1)\n",
    "ivan.add_grade(mark_2)\n",
    "ivan.add_grade(mark_3)\n",
    "ivan.get_average()"
   ]
  },
  {
   "cell_type": "code",
   "execution_count": 126,
   "metadata": {},
   "outputs": [
    {
     "data": {
      "text/plain": [
       "'Добавьте оценки'"
      ]
     },
     "execution_count": 126,
     "metadata": {},
     "output_type": "execute_result"
    }
   ],
   "source": [
    "maria = Student('Maria', 1)\n",
    "maria.get_average()"
   ]
  },
  {
   "cell_type": "code",
   "execution_count": null,
   "metadata": {},
   "outputs": [],
   "source": []
  }
 ],
 "metadata": {
  "kernelspec": {
   "display_name": "Python 3",
   "language": "python",
   "name": "python3"
  },
  "language_info": {
   "codemirror_mode": {
    "name": "ipython",
    "version": 3
   },
   "file_extension": ".py",
   "mimetype": "text/x-python",
   "name": "python",
   "nbconvert_exporter": "python",
   "pygments_lexer": "ipython3",
   "version": "3.8.5"
  }
 },
 "nbformat": 4,
 "nbformat_minor": 4
}
